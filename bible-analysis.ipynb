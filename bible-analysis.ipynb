{
 "cells": [
  {
   "cell_type": "markdown",
   "id": "061253aa-7fd2-4b95-86ad-86fa53ef3221",
   "metadata": {},
   "source": [
    "## Import Libraries and Functions"
   ]
  },
  {
   "cell_type": "code",
   "execution_count": 20,
   "id": "4602b3c6-6455-4b70-a272-44c8915f80e7",
   "metadata": {},
   "outputs": [
    {
     "data": {
      "text/html": [
       "        <script type=\"text/javascript\">\n",
       "        window.PlotlyConfig = {MathJaxConfig: 'local'};\n",
       "        if (window.MathJax && window.MathJax.Hub && window.MathJax.Hub.Config) {window.MathJax.Hub.Config({SVG: {font: \"STIX-Web\"}});}\n",
       "        if (typeof require !== 'undefined') {\n",
       "        require.undef(\"plotly\");\n",
       "        requirejs.config({\n",
       "            paths: {\n",
       "                'plotly': ['https://cdn.plot.ly/plotly-2.16.1.min']\n",
       "            }\n",
       "        });\n",
       "        require(['plotly'], function(Plotly) {\n",
       "            window._Plotly = Plotly;\n",
       "        });\n",
       "        }\n",
       "        </script>\n",
       "        "
      ]
     },
     "metadata": {},
     "output_type": "display_data"
    }
   ],
   "source": [
    "import pandas as pd\n",
    "import numpy as np\n",
    "import requests\n",
    "import re\n",
    "import string\n",
    "import nltk\n",
    "from nltk.corpus import stopwords\n",
    "from nltk.stem import WordNetLemmatizer\n",
    "from sklearn.cluster import KMeans\n",
    "from sklearn.feature_extraction.text import TfidfVectorizer\n",
    "from sklearn.decomposition import PCA\n",
    "from scipy.sparse import csr_matrix\n",
    "import seaborn as sns\n",
    "import matplotlib.pyplot as plt\n",
    "from transformers import pipeline\n",
    "import plotly.express as px\n",
    "import plotly.io as pio\n",
    "pio.renderers.default = 'jupyterlab'\n",
    "from plotly.offline import init_notebook_mode\n",
    "init_notebook_mode(connected = True)\n",
    "import chart_studio.plotly as py\n",
    "import plotly.graph_objects as go\n",
    "from tensorflow.python.keras.saving.hdf5_format import save_attributes_to_hdf5_group\n",
    "import keras\n",
    "from transformers import AutoTokenizer, AutoModelForSequenceClassification"
   ]
  },
  {
   "cell_type": "code",
   "execution_count": 2,
   "id": "99774206-8b7d-4faf-9739-b3b2e14e4405",
   "metadata": {},
   "outputs": [],
   "source": [
    "BOOKS_OLD_TESTAMENT = [\n",
    "'Genesis', 'Exodus', 'Leviticus', 'Numbers', 'Deuteronomy', 'Joshua', 'Judges', 'Ruth',\n",
    "'1 Samuel', '2 Samuel', '1 Kings', '2 Kings', '1 Chronicles', '2 Chronicles', 'Ezra', 'Nehemiah',\n",
    "'Esther', 'Job', 'Psalms', 'Proverbs', 'Ecclesiastes', 'Song of Solomon', 'Isaiah', 'Jeremiah',\n",
    "'Lamentations', 'Ezekiel', 'Daniel', 'Hosea', 'Joel', 'Amos', 'Obadiah', 'Jonah',\n",
    "'Micah', 'Nahum', 'Habakkuk', 'Zephaniah', 'Haggai', 'Zechariah', 'Malachi'\n",
    "]\n",
    "BOOKS_NEW_TESTAMENT = [\n",
    "'Matthew', 'Mark', 'Luke', 'John', 'Acts', 'Romans', '1 Corinthians', '2 Corinthians',\n",
    "'Galatians', 'Ephesians', 'Philippians', 'Colossians', '1 Thessalonians', '2 Thessalonians', '1 Timothy', '2 Timothy',\n",
    "'Titus', 'Philemon', 'Hebrews', 'James', '1 Peter', '2 Peter', '1 John', '2 John',\n",
    "'3 John', 'Jude', 'Revelation'\n",
    "]"
   ]
  },
  {
   "cell_type": "code",
   "execution_count": 3,
   "id": "33e89faf-133a-4b6b-ba66-4b380dad79d6",
   "metadata": {},
   "outputs": [
    {
     "name": "stderr",
     "output_type": "stream",
     "text": [
      "[nltk_data] Downloading package stopwords to /home/studio-lab-\n",
      "[nltk_data]     user/nltk_data...\n",
      "[nltk_data]   Package stopwords is already up-to-date!\n",
      "[nltk_data] Downloading package wordnet to /home/studio-lab-\n",
      "[nltk_data]     user/nltk_data...\n",
      "[nltk_data]   Package wordnet is already up-to-date!\n",
      "[nltk_data] Downloading package omw-1.4 to /home/studio-lab-\n",
      "[nltk_data]     user/nltk_data...\n",
      "[nltk_data]   Package omw-1.4 is already up-to-date!\n"
     ]
    },
    {
     "data": {
      "text/plain": [
       "True"
      ]
     },
     "execution_count": 3,
     "metadata": {},
     "output_type": "execute_result"
    }
   ],
   "source": [
    "nltk.download('stopwords')\n",
    "nltk.download('wordnet')\n",
    "nltk.download('omw-1.4')"
   ]
  },
  {
   "cell_type": "code",
   "execution_count": 4,
   "id": "234500c4-3330-42a0-8015-a90df814f913",
   "metadata": {},
   "outputs": [],
   "source": [
    "bible_url = 'https://bereanbible.com/bsb.txt'"
   ]
  },
  {
   "cell_type": "code",
   "execution_count": 5,
   "id": "1852a321-1553-45b1-a388-70ad2597cd93",
   "metadata": {},
   "outputs": [],
   "source": [
    "with open('./data/bereanbible.txt', 'r') as f:\n",
    "    text = f.read()"
   ]
  },
  {
   "cell_type": "code",
   "execution_count": 6,
   "id": "8ed67016-0a4a-4ae1-84d5-8930dda1955b",
   "metadata": {},
   "outputs": [],
   "source": [
    "response = requests.get(bible_url)\n",
    "raw_bible = response.text"
   ]
  },
  {
   "cell_type": "code",
   "execution_count": 7,
   "id": "59f78280-2122-49d5-a1c9-2f9bcfe64a5e",
   "metadata": {},
   "outputs": [],
   "source": [
    "bible_list = raw_bible.splitlines()"
   ]
  },
  {
   "cell_type": "code",
   "execution_count": 8,
   "id": "80a1ad75-1c1f-4816-b1d4-fbb8f262e089",
   "metadata": {},
   "outputs": [],
   "source": [
    "bible_array = np.array([item.split('\\t') for item in bible_list])"
   ]
  },
  {
   "cell_type": "code",
   "execution_count": 9,
   "id": "3621db5f-9178-41c3-b49d-899890177582",
   "metadata": {},
   "outputs": [],
   "source": [
    "def printable_string(text):\n",
    "    # string.translate(text, string.printable)\n",
    "    # text = text.translate(str.maketrans('', '', string.printable))\n",
    "    # filtered_string = (filter(lambda x: x in string.printable, text))\n",
    "    filtered_string = ''.join(s for s in text if s in string.printable)\n",
    "    return filtered_string\n",
    "\n",
    "\n",
    "bible_array[:, 1] = np.array([printable_string(verse) for verse in bible_array[:, 1]])"
   ]
  },
  {
   "cell_type": "code",
   "execution_count": 10,
   "id": "bbbf4160-f00b-4640-92a2-0048383a92c9",
   "metadata": {},
   "outputs": [
    {
     "data": {
      "text/plain": [
       "'And God said, Let there be light, and there was light.'"
      ]
     },
     "execution_count": 10,
     "metadata": {},
     "output_type": "execute_result"
    }
   ],
   "source": [
    "bible_array[5, 1]"
   ]
  },
  {
   "cell_type": "code",
   "execution_count": 11,
   "id": "462b55bb-1ad0-4cb5-b270-893deafc6fd0",
   "metadata": {},
   "outputs": [
    {
     "data": {
      "text/plain": [
       "(31105, 2)"
      ]
     },
     "execution_count": 11,
     "metadata": {},
     "output_type": "execute_result"
    }
   ],
   "source": [
    "bible_array.shape"
   ]
  },
  {
   "cell_type": "code",
   "execution_count": 12,
   "id": "bfb663fa-c050-4e92-b7f8-aa6860341f06",
   "metadata": {},
   "outputs": [],
   "source": [
    "df = pd.DataFrame(bible_array[3:, :], columns=['reference','text'])"
   ]
  },
  {
   "cell_type": "code",
   "execution_count": 13,
   "id": "5abc1181-2c68-46c4-9473-7fba1a284422",
   "metadata": {},
   "outputs": [
    {
     "data": {
      "text/html": [
       "<div>\n",
       "<style scoped>\n",
       "    .dataframe tbody tr th:only-of-type {\n",
       "        vertical-align: middle;\n",
       "    }\n",
       "\n",
       "    .dataframe tbody tr th {\n",
       "        vertical-align: top;\n",
       "    }\n",
       "\n",
       "    .dataframe thead th {\n",
       "        text-align: right;\n",
       "    }\n",
       "</style>\n",
       "<table border=\"1\" class=\"dataframe\">\n",
       "  <thead>\n",
       "    <tr style=\"text-align: right;\">\n",
       "      <th></th>\n",
       "      <th>reference</th>\n",
       "      <th>text</th>\n",
       "    </tr>\n",
       "  </thead>\n",
       "  <tbody>\n",
       "    <tr>\n",
       "      <th>0</th>\n",
       "      <td>Genesis 1:1</td>\n",
       "      <td>In the beginning God created the heavens and t...</td>\n",
       "    </tr>\n",
       "    <tr>\n",
       "      <th>1</th>\n",
       "      <td>Genesis 1:2</td>\n",
       "      <td>Now the earth was formless and void, and darkn...</td>\n",
       "    </tr>\n",
       "    <tr>\n",
       "      <th>2</th>\n",
       "      <td>Genesis 1:3</td>\n",
       "      <td>And God said, Let there be light, and there wa...</td>\n",
       "    </tr>\n",
       "    <tr>\n",
       "      <th>3</th>\n",
       "      <td>Genesis 1:4</td>\n",
       "      <td>And God saw that the light was good, and He se...</td>\n",
       "    </tr>\n",
       "    <tr>\n",
       "      <th>4</th>\n",
       "      <td>Genesis 1:5</td>\n",
       "      <td>God called the light day, and the darkness He ...</td>\n",
       "    </tr>\n",
       "  </tbody>\n",
       "</table>\n",
       "</div>"
      ],
      "text/plain": [
       "     reference                                               text\n",
       "0  Genesis 1:1  In the beginning God created the heavens and t...\n",
       "1  Genesis 1:2  Now the earth was formless and void, and darkn...\n",
       "2  Genesis 1:3  And God said, Let there be light, and there wa...\n",
       "3  Genesis 1:4  And God saw that the light was good, and He se...\n",
       "4  Genesis 1:5  God called the light day, and the darkness He ..."
      ]
     },
     "execution_count": 13,
     "metadata": {},
     "output_type": "execute_result"
    }
   ],
   "source": [
    "df.head()"
   ]
  },
  {
   "cell_type": "code",
   "execution_count": 15,
   "id": "8247e714-9761-4831-9430-c55e5d1629b3",
   "metadata": {},
   "outputs": [],
   "source": [
    "def text_process(text):\n",
    "    '''\n",
    "    Takes in a string of text, then performs the following:\n",
    "    1. Remove all punctuation\n",
    "    2. Remove all stopwords\n",
    "    3. Return the cleaned text as a list of words\n",
    "    4. Remove words\n",
    "    '''\n",
    "    stemmer = WordNetLemmatizer()\n",
    "    nopunc = [char for char in text if char not in string.punctuation]\n",
    "    nopunc = ''.join([i for i in nopunc if not i.isdigit()])\n",
    "    nopunc = [word.lower() for word in nopunc.split() if word not in stopwords.words('english')]\n",
    "    return [stemmer.lemmatize(word) for word in nopunc]"
   ]
  },
  {
   "cell_type": "code",
   "execution_count": 16,
   "id": "a97c1d9b-948f-49f2-bd9c-dcd98a72a09b",
   "metadata": {},
   "outputs": [],
   "source": [
    "tfidfconvert = TfidfVectorizer(analyzer=text_process).fit(bible_array[3:,1])\n",
    "tfidf_text = tfidfconvert.transform(bible_array[3:,1])\n",
    "df_vocab = pd.DataFrame(index=None,\n",
    "                        data=zip(tfidfconvert.vocabulary_.keys(),\n",
    "                                 tfidfconvert.vocabulary_.values()),\n",
    "                        columns=['word', 'index']).sort_values('index')\n",
    "tfidf_df = pd.DataFrame(csr_matrix.todense(tfidf_text), columns=df_vocab.word)"
   ]
  },
  {
   "cell_type": "code",
   "execution_count": 17,
   "id": "84c81edc-c1c5-4c2c-9286-0e2bff26216f",
   "metadata": {},
   "outputs": [
    {
     "data": {
      "text/plain": [
       "(31102, 13879)"
      ]
     },
     "execution_count": 17,
     "metadata": {},
     "output_type": "execute_result"
    }
   ],
   "source": [
    "tfidf_df.shape"
   ]
  },
  {
   "cell_type": "code",
   "execution_count": 18,
   "id": "41475495-5569-40b8-a6ef-7cf12851ba5d",
   "metadata": {},
   "outputs": [
    {
     "data": {
      "text/html": [
       "<div>\n",
       "<style scoped>\n",
       "    .dataframe tbody tr th:only-of-type {\n",
       "        vertical-align: middle;\n",
       "    }\n",
       "\n",
       "    .dataframe tbody tr th {\n",
       "        vertical-align: top;\n",
       "    }\n",
       "\n",
       "    .dataframe thead th {\n",
       "        text-align: right;\n",
       "    }\n",
       "</style>\n",
       "<table border=\"1\" class=\"dataframe\">\n",
       "  <thead>\n",
       "    <tr style=\"text-align: right;\">\n",
       "      <th>word</th>\n",
       "      <th>a</th>\n",
       "      <th>aaron</th>\n",
       "      <th>abaddon</th>\n",
       "      <th>abagtha</th>\n",
       "      <th>abanah</th>\n",
       "      <th>abandon</th>\n",
       "      <th>abandoned</th>\n",
       "      <th>abandoning</th>\n",
       "      <th>abarim</th>\n",
       "      <th>abba</th>\n",
       "      <th>...</th>\n",
       "      <th>zophim</th>\n",
       "      <th>zorah</th>\n",
       "      <th>zorathites</th>\n",
       "      <th>zorites</th>\n",
       "      <th>zuar</th>\n",
       "      <th>zuph</th>\n",
       "      <th>zur</th>\n",
       "      <th>zuriel</th>\n",
       "      <th>zurishaddai</th>\n",
       "      <th>zuzites</th>\n",
       "    </tr>\n",
       "  </thead>\n",
       "  <tbody>\n",
       "    <tr>\n",
       "      <th>0</th>\n",
       "      <td>0.0</td>\n",
       "      <td>0.0</td>\n",
       "      <td>0.0</td>\n",
       "      <td>0.0</td>\n",
       "      <td>0.0</td>\n",
       "      <td>0.0</td>\n",
       "      <td>0.0</td>\n",
       "      <td>0.0</td>\n",
       "      <td>0.0</td>\n",
       "      <td>0.0</td>\n",
       "      <td>...</td>\n",
       "      <td>0.0</td>\n",
       "      <td>0.0</td>\n",
       "      <td>0.0</td>\n",
       "      <td>0.0</td>\n",
       "      <td>0.0</td>\n",
       "      <td>0.0</td>\n",
       "      <td>0.0</td>\n",
       "      <td>0.0</td>\n",
       "      <td>0.0</td>\n",
       "      <td>0.0</td>\n",
       "    </tr>\n",
       "    <tr>\n",
       "      <th>1</th>\n",
       "      <td>0.0</td>\n",
       "      <td>0.0</td>\n",
       "      <td>0.0</td>\n",
       "      <td>0.0</td>\n",
       "      <td>0.0</td>\n",
       "      <td>0.0</td>\n",
       "      <td>0.0</td>\n",
       "      <td>0.0</td>\n",
       "      <td>0.0</td>\n",
       "      <td>0.0</td>\n",
       "      <td>...</td>\n",
       "      <td>0.0</td>\n",
       "      <td>0.0</td>\n",
       "      <td>0.0</td>\n",
       "      <td>0.0</td>\n",
       "      <td>0.0</td>\n",
       "      <td>0.0</td>\n",
       "      <td>0.0</td>\n",
       "      <td>0.0</td>\n",
       "      <td>0.0</td>\n",
       "      <td>0.0</td>\n",
       "    </tr>\n",
       "    <tr>\n",
       "      <th>2</th>\n",
       "      <td>0.0</td>\n",
       "      <td>0.0</td>\n",
       "      <td>0.0</td>\n",
       "      <td>0.0</td>\n",
       "      <td>0.0</td>\n",
       "      <td>0.0</td>\n",
       "      <td>0.0</td>\n",
       "      <td>0.0</td>\n",
       "      <td>0.0</td>\n",
       "      <td>0.0</td>\n",
       "      <td>...</td>\n",
       "      <td>0.0</td>\n",
       "      <td>0.0</td>\n",
       "      <td>0.0</td>\n",
       "      <td>0.0</td>\n",
       "      <td>0.0</td>\n",
       "      <td>0.0</td>\n",
       "      <td>0.0</td>\n",
       "      <td>0.0</td>\n",
       "      <td>0.0</td>\n",
       "      <td>0.0</td>\n",
       "    </tr>\n",
       "    <tr>\n",
       "      <th>3</th>\n",
       "      <td>0.0</td>\n",
       "      <td>0.0</td>\n",
       "      <td>0.0</td>\n",
       "      <td>0.0</td>\n",
       "      <td>0.0</td>\n",
       "      <td>0.0</td>\n",
       "      <td>0.0</td>\n",
       "      <td>0.0</td>\n",
       "      <td>0.0</td>\n",
       "      <td>0.0</td>\n",
       "      <td>...</td>\n",
       "      <td>0.0</td>\n",
       "      <td>0.0</td>\n",
       "      <td>0.0</td>\n",
       "      <td>0.0</td>\n",
       "      <td>0.0</td>\n",
       "      <td>0.0</td>\n",
       "      <td>0.0</td>\n",
       "      <td>0.0</td>\n",
       "      <td>0.0</td>\n",
       "      <td>0.0</td>\n",
       "    </tr>\n",
       "    <tr>\n",
       "      <th>4</th>\n",
       "      <td>0.0</td>\n",
       "      <td>0.0</td>\n",
       "      <td>0.0</td>\n",
       "      <td>0.0</td>\n",
       "      <td>0.0</td>\n",
       "      <td>0.0</td>\n",
       "      <td>0.0</td>\n",
       "      <td>0.0</td>\n",
       "      <td>0.0</td>\n",
       "      <td>0.0</td>\n",
       "      <td>...</td>\n",
       "      <td>0.0</td>\n",
       "      <td>0.0</td>\n",
       "      <td>0.0</td>\n",
       "      <td>0.0</td>\n",
       "      <td>0.0</td>\n",
       "      <td>0.0</td>\n",
       "      <td>0.0</td>\n",
       "      <td>0.0</td>\n",
       "      <td>0.0</td>\n",
       "      <td>0.0</td>\n",
       "    </tr>\n",
       "  </tbody>\n",
       "</table>\n",
       "<p>5 rows × 13879 columns</p>\n",
       "</div>"
      ],
      "text/plain": [
       "word    a  aaron  abaddon  abagtha  abanah  abandon  abandoned  abandoning  \\\n",
       "0     0.0    0.0      0.0      0.0     0.0      0.0        0.0         0.0   \n",
       "1     0.0    0.0      0.0      0.0     0.0      0.0        0.0         0.0   \n",
       "2     0.0    0.0      0.0      0.0     0.0      0.0        0.0         0.0   \n",
       "3     0.0    0.0      0.0      0.0     0.0      0.0        0.0         0.0   \n",
       "4     0.0    0.0      0.0      0.0     0.0      0.0        0.0         0.0   \n",
       "\n",
       "word  abarim  abba  ...  zophim  zorah  zorathites  zorites  zuar  zuph  zur  \\\n",
       "0        0.0   0.0  ...     0.0    0.0         0.0      0.0   0.0   0.0  0.0   \n",
       "1        0.0   0.0  ...     0.0    0.0         0.0      0.0   0.0   0.0  0.0   \n",
       "2        0.0   0.0  ...     0.0    0.0         0.0      0.0   0.0   0.0  0.0   \n",
       "3        0.0   0.0  ...     0.0    0.0         0.0      0.0   0.0   0.0  0.0   \n",
       "4        0.0   0.0  ...     0.0    0.0         0.0      0.0   0.0   0.0  0.0   \n",
       "\n",
       "word  zuriel  zurishaddai  zuzites  \n",
       "0        0.0          0.0      0.0  \n",
       "1        0.0          0.0      0.0  \n",
       "2        0.0          0.0      0.0  \n",
       "3        0.0          0.0      0.0  \n",
       "4        0.0          0.0      0.0  \n",
       "\n",
       "[5 rows x 13879 columns]"
      ]
     },
     "execution_count": 18,
     "metadata": {},
     "output_type": "execute_result"
    }
   ],
   "source": [
    "tfidf_df.head()"
   ]
  },
  {
   "cell_type": "code",
   "execution_count": 19,
   "id": "99945757-6a24-4a65-8bbb-9a0922a9f6f7",
   "metadata": {},
   "outputs": [
    {
     "data": {
      "text/html": [
       "<div>\n",
       "<style scoped>\n",
       "    .dataframe tbody tr th:only-of-type {\n",
       "        vertical-align: middle;\n",
       "    }\n",
       "\n",
       "    .dataframe tbody tr th {\n",
       "        vertical-align: top;\n",
       "    }\n",
       "\n",
       "    .dataframe thead th {\n",
       "        text-align: right;\n",
       "    }\n",
       "</style>\n",
       "<table border=\"1\" class=\"dataframe\">\n",
       "  <thead>\n",
       "    <tr style=\"text-align: right;\">\n",
       "      <th>word</th>\n",
       "      <th>a</th>\n",
       "      <th>aaron</th>\n",
       "      <th>abaddon</th>\n",
       "      <th>abagtha</th>\n",
       "      <th>abanah</th>\n",
       "      <th>abandon</th>\n",
       "      <th>abandoned</th>\n",
       "      <th>abandoning</th>\n",
       "      <th>abarim</th>\n",
       "      <th>abba</th>\n",
       "      <th>...</th>\n",
       "      <th>zophim</th>\n",
       "      <th>zorah</th>\n",
       "      <th>zorathites</th>\n",
       "      <th>zorites</th>\n",
       "      <th>zuar</th>\n",
       "      <th>zuph</th>\n",
       "      <th>zur</th>\n",
       "      <th>zuriel</th>\n",
       "      <th>zurishaddai</th>\n",
       "      <th>zuzites</th>\n",
       "    </tr>\n",
       "  </thead>\n",
       "  <tbody>\n",
       "    <tr>\n",
       "      <th>count</th>\n",
       "      <td>31102.000000</td>\n",
       "      <td>31102.000000</td>\n",
       "      <td>31102.000000</td>\n",
       "      <td>31102.000000</td>\n",
       "      <td>31102.000000</td>\n",
       "      <td>31102.000000</td>\n",
       "      <td>31102.000000</td>\n",
       "      <td>31102.000000</td>\n",
       "      <td>31102.000000</td>\n",
       "      <td>31102.000000</td>\n",
       "      <td>...</td>\n",
       "      <td>31102.000000</td>\n",
       "      <td>31102.000000</td>\n",
       "      <td>31102.000000</td>\n",
       "      <td>31102.000000</td>\n",
       "      <td>31102.000000</td>\n",
       "      <td>31102.000000</td>\n",
       "      <td>31102.000000</td>\n",
       "      <td>31102.000000</td>\n",
       "      <td>31102.000000</td>\n",
       "      <td>31102.000000</td>\n",
       "    </tr>\n",
       "    <tr>\n",
       "      <th>mean</th>\n",
       "      <td>0.006169</td>\n",
       "      <td>0.003101</td>\n",
       "      <td>0.000107</td>\n",
       "      <td>0.000010</td>\n",
       "      <td>0.000012</td>\n",
       "      <td>0.000281</td>\n",
       "      <td>0.000494</td>\n",
       "      <td>0.000012</td>\n",
       "      <td>0.000069</td>\n",
       "      <td>0.000047</td>\n",
       "      <td>...</td>\n",
       "      <td>0.000013</td>\n",
       "      <td>0.000134</td>\n",
       "      <td>0.000021</td>\n",
       "      <td>0.000013</td>\n",
       "      <td>0.000075</td>\n",
       "      <td>0.000034</td>\n",
       "      <td>0.000058</td>\n",
       "      <td>0.000015</td>\n",
       "      <td>0.000073</td>\n",
       "      <td>0.000011</td>\n",
       "    </tr>\n",
       "    <tr>\n",
       "      <th>std</th>\n",
       "      <td>0.036374</td>\n",
       "      <td>0.031076</td>\n",
       "      <td>0.007202</td>\n",
       "      <td>0.001721</td>\n",
       "      <td>0.002195</td>\n",
       "      <td>0.010292</td>\n",
       "      <td>0.013113</td>\n",
       "      <td>0.002193</td>\n",
       "      <td>0.005453</td>\n",
       "      <td>0.004834</td>\n",
       "      <td>...</td>\n",
       "      <td>0.002305</td>\n",
       "      <td>0.007612</td>\n",
       "      <td>0.002655</td>\n",
       "      <td>0.002319</td>\n",
       "      <td>0.006052</td>\n",
       "      <td>0.003485</td>\n",
       "      <td>0.004706</td>\n",
       "      <td>0.002618</td>\n",
       "      <td>0.005881</td>\n",
       "      <td>0.001914</td>\n",
       "    </tr>\n",
       "    <tr>\n",
       "      <th>min</th>\n",
       "      <td>0.000000</td>\n",
       "      <td>0.000000</td>\n",
       "      <td>0.000000</td>\n",
       "      <td>0.000000</td>\n",
       "      <td>0.000000</td>\n",
       "      <td>0.000000</td>\n",
       "      <td>0.000000</td>\n",
       "      <td>0.000000</td>\n",
       "      <td>0.000000</td>\n",
       "      <td>0.000000</td>\n",
       "      <td>...</td>\n",
       "      <td>0.000000</td>\n",
       "      <td>0.000000</td>\n",
       "      <td>0.000000</td>\n",
       "      <td>0.000000</td>\n",
       "      <td>0.000000</td>\n",
       "      <td>0.000000</td>\n",
       "      <td>0.000000</td>\n",
       "      <td>0.000000</td>\n",
       "      <td>0.000000</td>\n",
       "      <td>0.000000</td>\n",
       "    </tr>\n",
       "    <tr>\n",
       "      <th>25%</th>\n",
       "      <td>0.000000</td>\n",
       "      <td>0.000000</td>\n",
       "      <td>0.000000</td>\n",
       "      <td>0.000000</td>\n",
       "      <td>0.000000</td>\n",
       "      <td>0.000000</td>\n",
       "      <td>0.000000</td>\n",
       "      <td>0.000000</td>\n",
       "      <td>0.000000</td>\n",
       "      <td>0.000000</td>\n",
       "      <td>...</td>\n",
       "      <td>0.000000</td>\n",
       "      <td>0.000000</td>\n",
       "      <td>0.000000</td>\n",
       "      <td>0.000000</td>\n",
       "      <td>0.000000</td>\n",
       "      <td>0.000000</td>\n",
       "      <td>0.000000</td>\n",
       "      <td>0.000000</td>\n",
       "      <td>0.000000</td>\n",
       "      <td>0.000000</td>\n",
       "    </tr>\n",
       "    <tr>\n",
       "      <th>50%</th>\n",
       "      <td>0.000000</td>\n",
       "      <td>0.000000</td>\n",
       "      <td>0.000000</td>\n",
       "      <td>0.000000</td>\n",
       "      <td>0.000000</td>\n",
       "      <td>0.000000</td>\n",
       "      <td>0.000000</td>\n",
       "      <td>0.000000</td>\n",
       "      <td>0.000000</td>\n",
       "      <td>0.000000</td>\n",
       "      <td>...</td>\n",
       "      <td>0.000000</td>\n",
       "      <td>0.000000</td>\n",
       "      <td>0.000000</td>\n",
       "      <td>0.000000</td>\n",
       "      <td>0.000000</td>\n",
       "      <td>0.000000</td>\n",
       "      <td>0.000000</td>\n",
       "      <td>0.000000</td>\n",
       "      <td>0.000000</td>\n",
       "      <td>0.000000</td>\n",
       "    </tr>\n",
       "    <tr>\n",
       "      <th>75%</th>\n",
       "      <td>0.000000</td>\n",
       "      <td>0.000000</td>\n",
       "      <td>0.000000</td>\n",
       "      <td>0.000000</td>\n",
       "      <td>0.000000</td>\n",
       "      <td>0.000000</td>\n",
       "      <td>0.000000</td>\n",
       "      <td>0.000000</td>\n",
       "      <td>0.000000</td>\n",
       "      <td>0.000000</td>\n",
       "      <td>...</td>\n",
       "      <td>0.000000</td>\n",
       "      <td>0.000000</td>\n",
       "      <td>0.000000</td>\n",
       "      <td>0.000000</td>\n",
       "      <td>0.000000</td>\n",
       "      <td>0.000000</td>\n",
       "      <td>0.000000</td>\n",
       "      <td>0.000000</td>\n",
       "      <td>0.000000</td>\n",
       "      <td>0.000000</td>\n",
       "    </tr>\n",
       "    <tr>\n",
       "      <th>max</th>\n",
       "      <td>0.434448</td>\n",
       "      <td>0.699957</td>\n",
       "      <td>0.567491</td>\n",
       "      <td>0.303476</td>\n",
       "      <td>0.387032</td>\n",
       "      <td>0.557637</td>\n",
       "      <td>0.610996</td>\n",
       "      <td>0.386763</td>\n",
       "      <td>0.486077</td>\n",
       "      <td>0.567843</td>\n",
       "      <td>...</td>\n",
       "      <td>0.406428</td>\n",
       "      <td>0.535301</td>\n",
       "      <td>0.337861</td>\n",
       "      <td>0.408977</td>\n",
       "      <td>0.622155</td>\n",
       "      <td>0.424458</td>\n",
       "      <td>0.466502</td>\n",
       "      <td>0.461751</td>\n",
       "      <td>0.601266</td>\n",
       "      <td>0.337628</td>\n",
       "    </tr>\n",
       "  </tbody>\n",
       "</table>\n",
       "<p>8 rows × 13879 columns</p>\n",
       "</div>"
      ],
      "text/plain": [
       "word              a         aaron       abaddon       abagtha        abanah  \\\n",
       "count  31102.000000  31102.000000  31102.000000  31102.000000  31102.000000   \n",
       "mean       0.006169      0.003101      0.000107      0.000010      0.000012   \n",
       "std        0.036374      0.031076      0.007202      0.001721      0.002195   \n",
       "min        0.000000      0.000000      0.000000      0.000000      0.000000   \n",
       "25%        0.000000      0.000000      0.000000      0.000000      0.000000   \n",
       "50%        0.000000      0.000000      0.000000      0.000000      0.000000   \n",
       "75%        0.000000      0.000000      0.000000      0.000000      0.000000   \n",
       "max        0.434448      0.699957      0.567491      0.303476      0.387032   \n",
       "\n",
       "word        abandon     abandoned    abandoning        abarim          abba  \\\n",
       "count  31102.000000  31102.000000  31102.000000  31102.000000  31102.000000   \n",
       "mean       0.000281      0.000494      0.000012      0.000069      0.000047   \n",
       "std        0.010292      0.013113      0.002193      0.005453      0.004834   \n",
       "min        0.000000      0.000000      0.000000      0.000000      0.000000   \n",
       "25%        0.000000      0.000000      0.000000      0.000000      0.000000   \n",
       "50%        0.000000      0.000000      0.000000      0.000000      0.000000   \n",
       "75%        0.000000      0.000000      0.000000      0.000000      0.000000   \n",
       "max        0.557637      0.610996      0.386763      0.486077      0.567843   \n",
       "\n",
       "word   ...        zophim         zorah    zorathites       zorites  \\\n",
       "count  ...  31102.000000  31102.000000  31102.000000  31102.000000   \n",
       "mean   ...      0.000013      0.000134      0.000021      0.000013   \n",
       "std    ...      0.002305      0.007612      0.002655      0.002319   \n",
       "min    ...      0.000000      0.000000      0.000000      0.000000   \n",
       "25%    ...      0.000000      0.000000      0.000000      0.000000   \n",
       "50%    ...      0.000000      0.000000      0.000000      0.000000   \n",
       "75%    ...      0.000000      0.000000      0.000000      0.000000   \n",
       "max    ...      0.406428      0.535301      0.337861      0.408977   \n",
       "\n",
       "word           zuar          zuph           zur        zuriel   zurishaddai  \\\n",
       "count  31102.000000  31102.000000  31102.000000  31102.000000  31102.000000   \n",
       "mean       0.000075      0.000034      0.000058      0.000015      0.000073   \n",
       "std        0.006052      0.003485      0.004706      0.002618      0.005881   \n",
       "min        0.000000      0.000000      0.000000      0.000000      0.000000   \n",
       "25%        0.000000      0.000000      0.000000      0.000000      0.000000   \n",
       "50%        0.000000      0.000000      0.000000      0.000000      0.000000   \n",
       "75%        0.000000      0.000000      0.000000      0.000000      0.000000   \n",
       "max        0.622155      0.424458      0.466502      0.461751      0.601266   \n",
       "\n",
       "word        zuzites  \n",
       "count  31102.000000  \n",
       "mean       0.000011  \n",
       "std        0.001914  \n",
       "min        0.000000  \n",
       "25%        0.000000  \n",
       "50%        0.000000  \n",
       "75%        0.000000  \n",
       "max        0.337628  \n",
       "\n",
       "[8 rows x 13879 columns]"
      ]
     },
     "execution_count": 19,
     "metadata": {},
     "output_type": "execute_result"
    }
   ],
   "source": [
    "tfidf_df.describe()"
   ]
  },
  {
   "cell_type": "code",
   "execution_count": 20,
   "id": "cd67f2ae-b5d4-4531-a139-c03d90b9222a",
   "metadata": {},
   "outputs": [],
   "source": [
    "pca_model = PCA(n_components=2)\n",
    "pca_array = pca_model.fit_transform(tfidf_df)"
   ]
  },
  {
   "cell_type": "code",
   "execution_count": 21,
   "id": "906c239a-c57e-4c5b-8f08-e02f8b90ade7",
   "metadata": {},
   "outputs": [
    {
     "data": {
      "text/plain": [
       "(31102, 2)"
      ]
     },
     "execution_count": 21,
     "metadata": {},
     "output_type": "execute_result"
    }
   ],
   "source": [
    "pca_array.shape"
   ]
  },
  {
   "cell_type": "code",
   "execution_count": 22,
   "id": "208de200-65a2-4e1f-8fbf-034770534e46",
   "metadata": {},
   "outputs": [],
   "source": [
    "df['pca_1'] = pca_array[:,0]\n",
    "df['pca_2'] = pca_array[:,1]"
   ]
  },
  {
   "cell_type": "code",
   "execution_count": 16,
   "id": "556ed8dc-f735-42e4-a0ff-15932285e939",
   "metadata": {},
   "outputs": [],
   "source": [
    "def book_split(text):\n",
    "    book = text.split(' ')\n",
    "    return ' '.join(book[0:len(book)-1])\n",
    "\n",
    "\n",
    "df['book'] = df['reference'].apply(book_split)\n",
    "df['testament'] = df['book'].apply(lambda x: 'OT' if x in BOOKS_OLD_TESTAMENT else 'NT')"
   ]
  },
  {
   "cell_type": "code",
   "execution_count": 24,
   "id": "833d53bd-1b10-42d2-988e-f14252bf4f00",
   "metadata": {},
   "outputs": [
    {
     "data": {
      "text/plain": [
       "<AxesSubplot: xlabel='pca_1', ylabel='pca_2'>"
      ]
     },
     "execution_count": 24,
     "metadata": {},
     "output_type": "execute_result"
    },
    {
     "data": {
      "image/png": "[encoded data removed]",
      "text/plain": [
       "<Figure size 432x288 with 1 Axes>"
      ]
     },
     "metadata": {
      "needs_background": "light"
     },
     "output_type": "display_data"
    }
   ],
   "source": [
    "sns.scatterplot(data=df, x='pca_1', y='pca_2', hue='testament')"
   ]
  },
  {
   "cell_type": "code",
   "execution_count": 25,
   "id": "69dd9cfc-6970-4d19-9adb-274c6f7db611",
   "metadata": {},
   "outputs": [],
   "source": [
    "books_df = df[['pca_1', 'pca_2', 'book', 'testament']].groupby(['testament','book']).mean()"
   ]
  },
  {
   "cell_type": "code",
   "execution_count": 26,
   "id": "ebea021b-d724-48f5-9e9a-8329203208b4",
   "metadata": {},
   "outputs": [],
   "source": [
    "books_df = books_df.reset_index(level=[0,1])"
   ]
  },
  {
   "cell_type": "code",
   "execution_count": 27,
   "id": "04232c25-5702-46ad-b62a-d5bbc2eb7c67",
   "metadata": {},
   "outputs": [
    {
     "data": {
      "text/plain": [
       "<AxesSubplot: xlabel='pca_1', ylabel='pca_2'>"
      ]
     },
     "execution_count": 27,
     "metadata": {},
     "output_type": "execute_result"
    },
    {
     "data": {
      "image/png": "[encoded data removed]",
      "text/plain": [
       "<Figure size 432x288 with 1 Axes>"
      ]
     },
     "metadata": {
      "needs_background": "light"
     },
     "output_type": "display_data"
    }
   ],
   "source": [
    "sns.scatterplot(data=books_df, x='pca_1', y='pca_2', hue='testament')"
   ]
  },
  {
   "cell_type": "code",
   "execution_count": 28,
   "id": "453ef7d4-e504-4442-8d98-3b048a51c1bc",
   "metadata": {},
   "outputs": [],
   "source": [
    "def scatter_text(x, y, text_column, data, title, xlabel, ylabel):\n",
    "    \"\"\"Scatter plot with country codes on the x y coordinates\n",
    "       Based on this answer: https://stackoverflow.com/a/54789170/2641825\"\"\"\n",
    "    # Create the scatter plot\n",
    "    p1 = sns.scatterplot(data=data, x=x, y=y, size = 8, legend=False)\n",
    "    # Add text besides each point\n",
    "    for line in range(0,data.shape[0]):\n",
    "         p1.text(data[x][line]+0.01, data[y][line], \n",
    "                 data[text_column][line], horizontalalignment='left', \n",
    "                 size='medium', color='black', weight='semibold')\n",
    "    # Set title and axis labels\n",
    "    plt.title(title)\n",
    "    plt.xlabel(xlabel)\n",
    "    plt.ylabel(ylabel)\n",
    "    return p1"
   ]
  },
  {
   "cell_type": "code",
   "execution_count": 29,
   "id": "394b6dbc-e894-494e-a633-63697eabdf3c",
   "metadata": {},
   "outputs": [
    {
     "data": {
      "text/plain": [
       "<AxesSubplot: title={'center': 'books of the bible'}, xlabel='pca_1', ylabel='pca_2'>"
      ]
     },
     "execution_count": 29,
     "metadata": {},
     "output_type": "execute_result"
    },
    {
     "data": {
      "image/png": "[encoded data removed]",
      "text/plain": [
       "<Figure size 432x288 with 1 Axes>"
      ]
     },
     "metadata": {
      "needs_background": "light"
     },
     "output_type": "display_data"
    }
   ],
   "source": [
    "scatter_text(x='pca_1', y='pca_2',\n",
    "             text_column='book', data=books_df,\n",
    "             title='books of the bible',\n",
    "             xlabel='pca_1', ylabel='pca_2')"
   ]
  },
  {
   "cell_type": "markdown",
   "id": "01db4207-03a8-4a8f-8002-1ac43ea59ad5",
   "metadata": {},
   "source": [
    "## Try LLMs for Sentiment Analysis"
   ]
  },
  {
   "cell_type": "markdown",
   "id": "72a8101d-ae50-4162-8609-d0df8818dc44",
   "metadata": {},
   "source": [
    "### Initial Analysis Using the Book of Genesis"
   ]
  },
  {
   "cell_type": "code",
   "execution_count": 21,
   "id": "50beeeac-f6fe-4b0a-a887-edd245a98b17",
   "metadata": {
    "tags": []
   },
   "outputs": [],
   "source": [
    "df_genesis = df.copy()\n",
    "df_genesis = df_genesis[df_genesis['book'] == 'Genesis']"
   ]
  },
  {
   "cell_type": "code",
   "execution_count": 22,
   "id": "c59875b2-ddb6-41cc-84cc-03b37c343969",
   "metadata": {},
   "outputs": [
    {
     "name": "stderr",
     "output_type": "stream",
     "text": [
      "No model was supplied, defaulted to distilbert-base-uncased-finetuned-sst-2-english and revision af0f99b (https://huggingface.co/distilbert-base-uncased-finetuned-sst-2-english).\n",
      "Using a pipeline without specifying a model name and revision in production is not recommended.\n"
     ]
    }
   ],
   "source": [
    "sentiment_pipeline = pipeline(\"sentiment-analysis\")\n",
    "text = list(df_genesis['text'])\n",
    "genesis_output = sentiment_pipeline(text)"
   ]
  },
  {
   "cell_type": "code",
   "execution_count": 23,
   "id": "95e98a72-49eb-46b2-bcbf-ddce805c7376",
   "metadata": {},
   "outputs": [
    {
     "data": {
      "text/html": [
       "<div>\n",
       "<style scoped>\n",
       "    .dataframe tbody tr th:only-of-type {\n",
       "        vertical-align: middle;\n",
       "    }\n",
       "\n",
       "    .dataframe tbody tr th {\n",
       "        vertical-align: top;\n",
       "    }\n",
       "\n",
       "    .dataframe thead th {\n",
       "        text-align: right;\n",
       "    }\n",
       "</style>\n",
       "<table border=\"1\" class=\"dataframe\">\n",
       "  <thead>\n",
       "    <tr style=\"text-align: right;\">\n",
       "      <th></th>\n",
       "      <th>reference</th>\n",
       "      <th>text</th>\n",
       "      <th>book</th>\n",
       "      <th>testament</th>\n",
       "      <th>sentiment</th>\n",
       "    </tr>\n",
       "  </thead>\n",
       "  <tbody>\n",
       "    <tr>\n",
       "      <th>0</th>\n",
       "      <td>Genesis 1:1</td>\n",
       "      <td>In the beginning God created the heavens and t...</td>\n",
       "      <td>Genesis</td>\n",
       "      <td>OT</td>\n",
       "      <td>{'label': 'POSITIVE', 'score': 0.9981729984283...</td>\n",
       "    </tr>\n",
       "    <tr>\n",
       "      <th>1</th>\n",
       "      <td>Genesis 1:2</td>\n",
       "      <td>Now the earth was formless and void, and darkn...</td>\n",
       "      <td>Genesis</td>\n",
       "      <td>OT</td>\n",
       "      <td>{'label': 'POSITIVE', 'score': 0.6871328353881...</td>\n",
       "    </tr>\n",
       "    <tr>\n",
       "      <th>2</th>\n",
       "      <td>Genesis 1:3</td>\n",
       "      <td>And God said, Let there be light, and there wa...</td>\n",
       "      <td>Genesis</td>\n",
       "      <td>OT</td>\n",
       "      <td>{'label': 'POSITIVE', 'score': 0.971975564956665}</td>\n",
       "    </tr>\n",
       "    <tr>\n",
       "      <th>3</th>\n",
       "      <td>Genesis 1:4</td>\n",
       "      <td>And God saw that the light was good, and He se...</td>\n",
       "      <td>Genesis</td>\n",
       "      <td>OT</td>\n",
       "      <td>{'label': 'POSITIVE', 'score': 0.9923180341720...</td>\n",
       "    </tr>\n",
       "    <tr>\n",
       "      <th>4</th>\n",
       "      <td>Genesis 1:5</td>\n",
       "      <td>God called the light day, and the darkness He ...</td>\n",
       "      <td>Genesis</td>\n",
       "      <td>OT</td>\n",
       "      <td>{'label': 'NEGATIVE', 'score': 0.9347487092018...</td>\n",
       "    </tr>\n",
       "  </tbody>\n",
       "</table>\n",
       "</div>"
      ],
      "text/plain": [
       "     reference                                               text     book  \\\n",
       "0  Genesis 1:1  In the beginning God created the heavens and t...  Genesis   \n",
       "1  Genesis 1:2  Now the earth was formless and void, and darkn...  Genesis   \n",
       "2  Genesis 1:3  And God said, Let there be light, and there wa...  Genesis   \n",
       "3  Genesis 1:4  And God saw that the light was good, and He se...  Genesis   \n",
       "4  Genesis 1:5  God called the light day, and the darkness He ...  Genesis   \n",
       "\n",
       "  testament                                          sentiment  \n",
       "0        OT  {'label': 'POSITIVE', 'score': 0.9981729984283...  \n",
       "1        OT  {'label': 'POSITIVE', 'score': 0.6871328353881...  \n",
       "2        OT  {'label': 'POSITIVE', 'score': 0.971975564956665}  \n",
       "3        OT  {'label': 'POSITIVE', 'score': 0.9923180341720...  \n",
       "4        OT  {'label': 'NEGATIVE', 'score': 0.9347487092018...  "
      ]
     },
     "execution_count": 23,
     "metadata": {},
     "output_type": "execute_result"
    }
   ],
   "source": [
    "df_genesis['sentiment'] = genesis_output\n",
    "df_genesis.head()"
   ]
  },
  {
   "cell_type": "code",
   "execution_count": 24,
   "id": "cb84b48e-7256-403b-b121-3b80ecb60806",
   "metadata": {},
   "outputs": [],
   "source": [
    "def sentiment_score_weight(sentiment):\n",
    "    label = sentiment['label']\n",
    "    # print(label)\n",
    "    score = float(sentiment['score'])\n",
    "    # print(score)\n",
    "    label_value = 1 if label == 'POSITIVE' else -1\n",
    "    weighted_score = label_value*score\n",
    "    return weighted_score\n",
    "\n",
    "\n",
    "df_genesis['weighted_score'] = df_genesis['sentiment'].apply(lambda x: sentiment_score_weight(sentiment=x))"
   ]
  },
  {
   "cell_type": "code",
   "execution_count": 25,
   "id": "54612f6f-98aa-48a7-ad83-74523dcc3cce",
   "metadata": {},
   "outputs": [],
   "source": [
    "def chapter_split(text):\n",
    "    reference_list = text.split(' ')\n",
    "    chapter_verse = reference_list[-1].split(':')\n",
    "    return int(chapter_verse[0])\n",
    "\n",
    "df_genesis['chapter'] = df['reference'].apply(chapter_split)"
   ]
  },
  {
   "cell_type": "code",
   "execution_count": 26,
   "id": "f501246f-5ec5-4c8e-a031-a230ed702446",
   "metadata": {},
   "outputs": [
    {
     "data": {
      "text/html": [
       "<div>\n",
       "<style scoped>\n",
       "    .dataframe tbody tr th:only-of-type {\n",
       "        vertical-align: middle;\n",
       "    }\n",
       "\n",
       "    .dataframe tbody tr th {\n",
       "        vertical-align: top;\n",
       "    }\n",
       "\n",
       "    .dataframe thead th {\n",
       "        text-align: right;\n",
       "    }\n",
       "</style>\n",
       "<table border=\"1\" class=\"dataframe\">\n",
       "  <thead>\n",
       "    <tr style=\"text-align: right;\">\n",
       "      <th></th>\n",
       "      <th>reference</th>\n",
       "      <th>text</th>\n",
       "      <th>book</th>\n",
       "      <th>testament</th>\n",
       "      <th>sentiment</th>\n",
       "      <th>weighted_score</th>\n",
       "      <th>chapter</th>\n",
       "    </tr>\n",
       "  </thead>\n",
       "  <tbody>\n",
       "    <tr>\n",
       "      <th>0</th>\n",
       "      <td>Genesis 1:1</td>\n",
       "      <td>In the beginning God created the heavens and t...</td>\n",
       "      <td>Genesis</td>\n",
       "      <td>OT</td>\n",
       "      <td>{'label': 'POSITIVE', 'score': 0.9981729984283...</td>\n",
       "      <td>0.998173</td>\n",
       "      <td>1</td>\n",
       "    </tr>\n",
       "    <tr>\n",
       "      <th>1</th>\n",
       "      <td>Genesis 1:2</td>\n",
       "      <td>Now the earth was formless and void, and darkn...</td>\n",
       "      <td>Genesis</td>\n",
       "      <td>OT</td>\n",
       "      <td>{'label': 'POSITIVE', 'score': 0.6871328353881...</td>\n",
       "      <td>0.687133</td>\n",
       "      <td>1</td>\n",
       "    </tr>\n",
       "    <tr>\n",
       "      <th>2</th>\n",
       "      <td>Genesis 1:3</td>\n",
       "      <td>And God said, Let there be light, and there wa...</td>\n",
       "      <td>Genesis</td>\n",
       "      <td>OT</td>\n",
       "      <td>{'label': 'POSITIVE', 'score': 0.971975564956665}</td>\n",
       "      <td>0.971976</td>\n",
       "      <td>1</td>\n",
       "    </tr>\n",
       "    <tr>\n",
       "      <th>3</th>\n",
       "      <td>Genesis 1:4</td>\n",
       "      <td>And God saw that the light was good, and He se...</td>\n",
       "      <td>Genesis</td>\n",
       "      <td>OT</td>\n",
       "      <td>{'label': 'POSITIVE', 'score': 0.9923180341720...</td>\n",
       "      <td>0.992318</td>\n",
       "      <td>1</td>\n",
       "    </tr>\n",
       "    <tr>\n",
       "      <th>4</th>\n",
       "      <td>Genesis 1:5</td>\n",
       "      <td>God called the light day, and the darkness He ...</td>\n",
       "      <td>Genesis</td>\n",
       "      <td>OT</td>\n",
       "      <td>{'label': 'NEGATIVE', 'score': 0.9347487092018...</td>\n",
       "      <td>-0.934749</td>\n",
       "      <td>1</td>\n",
       "    </tr>\n",
       "  </tbody>\n",
       "</table>\n",
       "</div>"
      ],
      "text/plain": [
       "     reference                                               text     book  \\\n",
       "0  Genesis 1:1  In the beginning God created the heavens and t...  Genesis   \n",
       "1  Genesis 1:2  Now the earth was formless and void, and darkn...  Genesis   \n",
       "2  Genesis 1:3  And God said, Let there be light, and there wa...  Genesis   \n",
       "3  Genesis 1:4  And God saw that the light was good, and He se...  Genesis   \n",
       "4  Genesis 1:5  God called the light day, and the darkness He ...  Genesis   \n",
       "\n",
       "  testament                                          sentiment  \\\n",
       "0        OT  {'label': 'POSITIVE', 'score': 0.9981729984283...   \n",
       "1        OT  {'label': 'POSITIVE', 'score': 0.6871328353881...   \n",
       "2        OT  {'label': 'POSITIVE', 'score': 0.971975564956665}   \n",
       "3        OT  {'label': 'POSITIVE', 'score': 0.9923180341720...   \n",
       "4        OT  {'label': 'NEGATIVE', 'score': 0.9347487092018...   \n",
       "\n",
       "   weighted_score  chapter  \n",
       "0        0.998173        1  \n",
       "1        0.687133        1  \n",
       "2        0.971976        1  \n",
       "3        0.992318        1  \n",
       "4       -0.934749        1  "
      ]
     },
     "execution_count": 26,
     "metadata": {},
     "output_type": "execute_result"
    }
   ],
   "source": [
    "df_genesis.head()"
   ]
  },
  {
   "cell_type": "code",
   "execution_count": 27,
   "id": "f58f2ead-f95d-4cad-9c31-25c7b779fd4c",
   "metadata": {},
   "outputs": [
    {
     "data": {
      "text/html": [
       "<div>\n",
       "<style scoped>\n",
       "    .dataframe tbody tr th:only-of-type {\n",
       "        vertical-align: middle;\n",
       "    }\n",
       "\n",
       "    .dataframe tbody tr th {\n",
       "        vertical-align: top;\n",
       "    }\n",
       "\n",
       "    .dataframe thead th {\n",
       "        text-align: right;\n",
       "    }\n",
       "</style>\n",
       "<table border=\"1\" class=\"dataframe\">\n",
       "  <thead>\n",
       "    <tr style=\"text-align: right;\">\n",
       "      <th></th>\n",
       "      <th>chapter</th>\n",
       "      <th>weighted_score</th>\n",
       "    </tr>\n",
       "  </thead>\n",
       "  <tbody>\n",
       "    <tr>\n",
       "      <th>0</th>\n",
       "      <td>1</td>\n",
       "      <td>0.535815</td>\n",
       "    </tr>\n",
       "    <tr>\n",
       "      <th>1</th>\n",
       "      <td>2</td>\n",
       "      <td>0.393337</td>\n",
       "    </tr>\n",
       "    <tr>\n",
       "      <th>2</th>\n",
       "      <td>3</td>\n",
       "      <td>0.181933</td>\n",
       "    </tr>\n",
       "    <tr>\n",
       "      <th>3</th>\n",
       "      <td>4</td>\n",
       "      <td>0.207043</td>\n",
       "    </tr>\n",
       "    <tr>\n",
       "      <th>4</th>\n",
       "      <td>5</td>\n",
       "      <td>0.371141</td>\n",
       "    </tr>\n",
       "  </tbody>\n",
       "</table>\n",
       "</div>"
      ],
      "text/plain": [
       "   chapter  weighted_score\n",
       "0        1        0.535815\n",
       "1        2        0.393337\n",
       "2        3        0.181933\n",
       "3        4        0.207043\n",
       "4        5        0.371141"
      ]
     },
     "execution_count": 27,
     "metadata": {},
     "output_type": "execute_result"
    }
   ],
   "source": [
    "df_genesis_chapters = df_genesis[['chapter', 'weighted_score']].groupby(['chapter']).mean()\n",
    "df_genesis_chapters = df_genesis_chapters.reset_index(level=0)\n",
    "df_genesis_chapters.head()"
   ]
  },
  {
   "cell_type": "code",
   "execution_count": 28,
   "id": "91d88e95-cb63-49ef-9ed9-12579969d78e",
   "metadata": {},
   "outputs": [
    {
     "data": {
      "text/plain": [
       "<AxesSubplot: xlabel='chapter', ylabel='weighted_score'>"
      ]
     },
     "execution_count": 28,
     "metadata": {},
     "output_type": "execute_result"
    },
    {
     "data": {
      "image/png": "[encoded data removed]",
      "text/plain": [
       "<Figure size 432x288 with 1 Axes>"
      ]
     },
     "metadata": {
      "needs_background": "light"
     },
     "output_type": "display_data"
    }
   ],
   "source": [
    "sns.lineplot(data = df_genesis_chapters, x='chapter', y='weighted_score')"
   ]
  },
  {
   "cell_type": "code",
   "execution_count": 37,
   "id": "4611aba0-2335-41fa-85c0-e85196cee84b",
   "metadata": {},
   "outputs": [
    {
     "data": {
      "text/plain": [
       "<AxesSubplot: xlabel='chapter', ylabel='weighted_score'>"
      ]
     },
     "execution_count": 37,
     "metadata": {},
     "output_type": "execute_result"
    },
    {
     "data": {
      "image/png": "[encoded data removed]",
      "text/plain": [
       "<Figure size 1080x360 with 1 Axes>"
      ]
     },
     "metadata": {
      "needs_background": "light"
     },
     "output_type": "display_data"
    }
   ],
   "source": [
    "fig, ax = plt.subplots(figsize=(15,5))\n",
    "sns.barplot(ax=ax, data = df_genesis_chapters, x='chapter', y='weighted_score')"
   ]
  },
  {
   "cell_type": "code",
   "execution_count": 29,
   "id": "215e7d44-d4ae-4444-962a-5b4ccca9b2c9",
   "metadata": {},
   "outputs": [
    {
     "data": {
      "application/vnd.plotly.v1+json": {
       "config": {
        "plotlyServerURL": "https://plot.ly"
       },
       "data": [
        {
         "hovertemplate": "chapter=%{x}<br>weighted_score=%{y}<extra></extra>",
         "legendgroup": "",
         "line": {
          "color": "#636efa",
          "dash": "solid"
         },
         "marker": {
          "symbol": "circle"
         },
         "mode": "lines",
         "name": "",
         "orientation": "v",
         "showlegend": false,
         "type": "scatter",
         "x": [
          1,
          2,
          3,
          4,
          5,
          6,
          7,
          8,
          9,
          10,
          11,
          12,
          13,
          14,
          15,
          16,
          17,
          18,
          19,
          20,
          21,
          22,
          23,
          24,
          25,
          26,
          27,
          28,
          29,
          30,
          31,
          32,
          33,
          34,
          35,
          36,
          37,
          38,
          39,
          40,
          41,
          42,
          43,
          44,
          45,
          46,
          47,
          48,
          49,
          50
         ],
         "xaxis": "x",
         "y": [
          0.5358153677755787,
          0.39333696603775026,
          0.18193315466245016,
          0.2070427376490373,
          0.37114051915705204,
          0.5211945094845511,
          0.49297235161066055,
          0.26933169906789606,
          0.38919569706094675,
          0.5823579467833042,
          0.42306975834071636,
          0.4767098665237427,
          0.020143075121773615,
          0.11103034516175588,
          -0.018483076776776994,
          0.01477813720703125,
          0.29113916997556333,
          0.09763130635926218,
          -0.15576262379947461,
          0.1971079574690925,
          0.18838278160375707,
          0.39643793056408566,
          0.2848889112472534,
          0.060859847424635245,
          0.20705470968695247,
          0.17116837160927909,
          0.27449179343555286,
          0.30610147389498626,
          0.12789456333432878,
          0.21536078702571781,
          -0.14159803173758767,
          0.13140779919922352,
          0.24525564312934875,
          0.0377087208532518,
          0.17596900463104248,
          0.504119027492612,
          -0.2971271922190984,
          -0.3356612106164297,
          -0.3083787249482196,
          -0.11990951196007106,
          0.17982454153529384,
          -0.16426031213057668,
          0.18257429845192852,
          -0.4074687817517449,
          0.35658719709941317,
          0.9077269417398116,
          0.11983962405112482,
          0.5177012194286693,
          0.17297171462665906,
          0.2346365864460285
         ],
         "yaxis": "y"
        }
       ],
       "layout": {
        "legend": {
         "tracegroupgap": 0
        },
        "template": {
         "data": {
          "bar": [
           {
            "error_x": {
             "color": "#2a3f5f"
            },
            "error_y": {
             "color": "#2a3f5f"
            },
            "marker": {
             "line": {
              "color": "#E5ECF6",
              "width": 0.5
             },
             "pattern": {
              "fillmode": "overlay",
              "size": 10,
              "solidity": 0.2
             }
            },
            "type": "bar"
           }
          ],
          "barpolar": [
           {
            "marker": {
             "line": {
              "color": "#E5ECF6",
              "width": 0.5
             },
             "pattern": {
              "fillmode": "overlay",
              "size": 10,
              "solidity": 0.2
             }
            },
            "type": "barpolar"
           }
          ],
          "carpet": [
           {
            "aaxis": {
             "endlinecolor": "#2a3f5f",
             "gridcolor": "white",
             "linecolor": "white",
             "minorgridcolor": "white",
             "startlinecolor": "#2a3f5f"
            },
            "baxis": {
             "endlinecolor": "#2a3f5f",
             "gridcolor": "white",
             "linecolor": "white",
             "minorgridcolor": "white",
             "startlinecolor": "#2a3f5f"
            },
            "type": "carpet"
           }
          ],
          "choropleth": [
           {
            "colorbar": {
             "outlinewidth": 0,
             "ticks": ""
            },
            "type": "choropleth"
           }
          ],
          "contour": [
           {
            "colorbar": {
             "outlinewidth": 0,
             "ticks": ""
            },
            "colorscale": [
             [
              0,
              "#0d0887"
             ],
             [
              0.1111111111111111,
              "#46039f"
             ],
             [
              0.2222222222222222,
              "#7201a8"
             ],
             [
              0.3333333333333333,
              "#9c179e"
             ],
             [
              0.4444444444444444,
              "#bd3786"
             ],
             [
              0.5555555555555556,
              "#d8576b"
             ],
             [
              0.6666666666666666,
              "#ed7953"
             ],
             [
              0.7777777777777778,
              "#fb9f3a"
             ],
             [
              0.8888888888888888,
              "#fdca26"
             ],
             [
              1,
              "#f0f921"
             ]
            ],
            "type": "contour"
           }
          ],
          "contourcarpet": [
           {
            "colorbar": {
             "outlinewidth": 0,
             "ticks": ""
            },
            "type": "contourcarpet"
           }
          ],
          "heatmap": [
           {
            "colorbar": {
             "outlinewidth": 0,
             "ticks": ""
            },
            "colorscale": [
             [
              0,
              "#0d0887"
             ],
             [
              0.1111111111111111,
              "#46039f"
             ],
             [
              0.2222222222222222,
              "#7201a8"
             ],
             [
              0.3333333333333333,
              "#9c179e"
             ],
             [
              0.4444444444444444,
              "#bd3786"
             ],
             [
              0.5555555555555556,
              "#d8576b"
             ],
             [
              0.6666666666666666,
              "#ed7953"
             ],
             [
              0.7777777777777778,
              "#fb9f3a"
             ],
             [
              0.8888888888888888,
              "#fdca26"
             ],
             [
              1,
              "#f0f921"
             ]
            ],
            "type": "heatmap"
           }
          ],
          "heatmapgl": [
           {
            "colorbar": {
             "outlinewidth": 0,
             "ticks": ""
            },
            "colorscale": [
             [
              0,
              "#0d0887"
             ],
             [
              0.1111111111111111,
              "#46039f"
             ],
             [
              0.2222222222222222,
              "#7201a8"
             ],
             [
              0.3333333333333333,
              "#9c179e"
             ],
             [
              0.4444444444444444,
              "#bd3786"
             ],
             [
              0.5555555555555556,
              "#d8576b"
             ],
             [
              0.6666666666666666,
              "#ed7953"
             ],
             [
              0.7777777777777778,
              "#fb9f3a"
             ],
             [
              0.8888888888888888,
              "#fdca26"
             ],
             [
              1,
              "#f0f921"
             ]
            ],
            "type": "heatmapgl"
           }
          ],
          "histogram": [
           {
            "marker": {
             "pattern": {
              "fillmode": "overlay",
              "size": 10,
              "solidity": 0.2
             }
            },
            "type": "histogram"
           }
          ],
          "histogram2d": [
           {
            "colorbar": {
             "outlinewidth": 0,
             "ticks": ""
            },
            "colorscale": [
             [
              0,
              "#0d0887"
             ],
             [
              0.1111111111111111,
              "#46039f"
             ],
             [
              0.2222222222222222,
              "#7201a8"
             ],
             [
              0.3333333333333333,
              "#9c179e"
             ],
             [
              0.4444444444444444,
              "#bd3786"
             ],
             [
              0.5555555555555556,
              "#d8576b"
             ],
             [
              0.6666666666666666,
              "#ed7953"
             ],
             [
              0.7777777777777778,
              "#fb9f3a"
             ],
             [
              0.8888888888888888,
              "#fdca26"
             ],
             [
              1,
              "#f0f921"
             ]
            ],
            "type": "histogram2d"
           }
          ],
          "histogram2dcontour": [
           {
            "colorbar": {
             "outlinewidth": 0,
             "ticks": ""
            },
            "colorscale": [
             [
              0,
              "#0d0887"
             ],
             [
              0.1111111111111111,
              "#46039f"
             ],
             [
              0.2222222222222222,
              "#7201a8"
             ],
             [
              0.3333333333333333,
              "#9c179e"
             ],
             [
              0.4444444444444444,
              "#bd3786"
             ],
             [
              0.5555555555555556,
              "#d8576b"
             ],
             [
              0.6666666666666666,
              "#ed7953"
             ],
             [
              0.7777777777777778,
              "#fb9f3a"
             ],
             [
              0.8888888888888888,
              "#fdca26"
             ],
             [
              1,
              "#f0f921"
             ]
            ],
            "type": "histogram2dcontour"
           }
          ],
          "mesh3d": [
           {
            "colorbar": {
             "outlinewidth": 0,
             "ticks": ""
            },
            "type": "mesh3d"
           }
          ],
          "parcoords": [
           {
            "line": {
             "colorbar": {
              "outlinewidth": 0,
              "ticks": ""
             }
            },
            "type": "parcoords"
           }
          ],
          "pie": [
           {
            "automargin": true,
            "type": "pie"
           }
          ],
          "scatter": [
           {
            "fillpattern": {
             "fillmode": "overlay",
             "size": 10,
             "solidity": 0.2
            },
            "type": "scatter"
           }
          ],
          "scatter3d": [
           {
            "line": {
             "colorbar": {
              "outlinewidth": 0,
              "ticks": ""
             }
            },
            "marker": {
             "colorbar": {
              "outlinewidth": 0,
              "ticks": ""
             }
            },
            "type": "scatter3d"
           }
          ],
          "scattercarpet": [
           {
            "marker": {
             "colorbar": {
              "outlinewidth": 0,
              "ticks": ""
             }
            },
            "type": "scattercarpet"
           }
          ],
          "scattergeo": [
           {
            "marker": {
             "colorbar": {
              "outlinewidth": 0,
              "ticks": ""
             }
            },
            "type": "scattergeo"
           }
          ],
          "scattergl": [
           {
            "marker": {
             "colorbar": {
              "outlinewidth": 0,
              "ticks": ""
             }
            },
            "type": "scattergl"
           }
          ],
          "scattermapbox": [
           {
            "marker": {
             "colorbar": {
              "outlinewidth": 0,
              "ticks": ""
             }
            },
            "type": "scattermapbox"
           }
          ],
          "scatterpolar": [
           {
            "marker": {
             "colorbar": {
              "outlinewidth": 0,
              "ticks": ""
             }
            },
            "type": "scatterpolar"
           }
          ],
          "scatterpolargl": [
           {
            "marker": {
             "colorbar": {
              "outlinewidth": 0,
              "ticks": ""
             }
            },
            "type": "scatterpolargl"
           }
          ],
          "scatterternary": [
           {
            "marker": {
             "colorbar": {
              "outlinewidth": 0,
              "ticks": ""
             }
            },
            "type": "scatterternary"
           }
          ],
          "surface": [
           {
            "colorbar": {
             "outlinewidth": 0,
             "ticks": ""
            },
            "colorscale": [
             [
              0,
              "#0d0887"
             ],
             [
              0.1111111111111111,
              "#46039f"
             ],
             [
              0.2222222222222222,
              "#7201a8"
             ],
             [
              0.3333333333333333,
              "#9c179e"
             ],
             [
              0.4444444444444444,
              "#bd3786"
             ],
             [
              0.5555555555555556,
              "#d8576b"
             ],
             [
              0.6666666666666666,
              "#ed7953"
             ],
             [
              0.7777777777777778,
              "#fb9f3a"
             ],
             [
              0.8888888888888888,
              "#fdca26"
             ],
             [
              1,
              "#f0f921"
             ]
            ],
            "type": "surface"
           }
          ],
          "table": [
           {
            "cells": {
             "fill": {
              "color": "#EBF0F8"
             },
             "line": {
              "color": "white"
             }
            },
            "header": {
             "fill": {
              "color": "#C8D4E3"
             },
             "line": {
              "color": "white"
             }
            },
            "type": "table"
           }
          ]
         },
         "layout": {
          "annotationdefaults": {
           "arrowcolor": "#2a3f5f",
           "arrowhead": 0,
           "arrowwidth": 1
          },
          "autotypenumbers": "strict",
          "coloraxis": {
           "colorbar": {
            "outlinewidth": 0,
            "ticks": ""
           }
          },
          "colorscale": {
           "diverging": [
            [
             0,
             "#8e0152"
            ],
            [
             0.1,
             "#c51b7d"
            ],
            [
             0.2,
             "#de77ae"
            ],
            [
             0.3,
             "#f1b6da"
            ],
            [
             0.4,
             "#fde0ef"
            ],
            [
             0.5,
             "#f7f7f7"
            ],
            [
             0.6,
             "#e6f5d0"
            ],
            [
             0.7,
             "#b8e186"
            ],
            [
             0.8,
             "#7fbc41"
            ],
            [
             0.9,
             "#4d9221"
            ],
            [
             1,
             "#276419"
            ]
           ],
           "sequential": [
            [
             0,
             "#0d0887"
            ],
            [
             0.1111111111111111,
             "#46039f"
            ],
            [
             0.2222222222222222,
             "#7201a8"
            ],
            [
             0.3333333333333333,
             "#9c179e"
            ],
            [
             0.4444444444444444,
             "#bd3786"
            ],
            [
             0.5555555555555556,
             "#d8576b"
            ],
            [
             0.6666666666666666,
             "#ed7953"
            ],
            [
             0.7777777777777778,
             "#fb9f3a"
            ],
            [
             0.8888888888888888,
             "#fdca26"
            ],
            [
             1,
             "#f0f921"
            ]
           ],
           "sequentialminus": [
            [
             0,
             "#0d0887"
            ],
            [
             0.1111111111111111,
             "#46039f"
            ],
            [
             0.2222222222222222,
             "#7201a8"
            ],
            [
             0.3333333333333333,
             "#9c179e"
            ],
            [
             0.4444444444444444,
             "#bd3786"
            ],
            [
             0.5555555555555556,
             "#d8576b"
            ],
            [
             0.6666666666666666,
             "#ed7953"
            ],
            [
             0.7777777777777778,
             "#fb9f3a"
            ],
            [
             0.8888888888888888,
             "#fdca26"
            ],
            [
             1,
             "#f0f921"
            ]
           ]
          },
          "colorway": [
           "#636efa",
           "#EF553B",
           "#00cc96",
           "#ab63fa",
           "#FFA15A",
           "#19d3f3",
           "#FF6692",
           "#B6E880",
           "#FF97FF",
           "#FECB52"
          ],
          "font": {
           "color": "#2a3f5f"
          },
          "geo": {
           "bgcolor": "white",
           "lakecolor": "white",
           "landcolor": "#E5ECF6",
           "showlakes": true,
           "showland": true,
           "subunitcolor": "white"
          },
          "hoverlabel": {
           "align": "left"
          },
          "hovermode": "closest",
          "mapbox": {
           "style": "light"
          },
          "paper_bgcolor": "white",
          "plot_bgcolor": "#E5ECF6",
          "polar": {
           "angularaxis": {
            "gridcolor": "white",
            "linecolor": "white",
            "ticks": ""
           },
           "bgcolor": "#E5ECF6",
           "radialaxis": {
            "gridcolor": "white",
            "linecolor": "white",
            "ticks": ""
           }
          },
          "scene": {
           "xaxis": {
            "backgroundcolor": "#E5ECF6",
            "gridcolor": "white",
            "gridwidth": 2,
            "linecolor": "white",
            "showbackground": true,
            "ticks": "",
            "zerolinecolor": "white"
           },
           "yaxis": {
            "backgroundcolor": "#E5ECF6",
            "gridcolor": "white",
            "gridwidth": 2,
            "linecolor": "white",
            "showbackground": true,
            "ticks": "",
            "zerolinecolor": "white"
           },
           "zaxis": {
            "backgroundcolor": "#E5ECF6",
            "gridcolor": "white",
            "gridwidth": 2,
            "linecolor": "white",
            "showbackground": true,
            "ticks": "",
            "zerolinecolor": "white"
           }
          },
          "shapedefaults": {
           "line": {
            "color": "#2a3f5f"
           }
          },
          "ternary": {
           "aaxis": {
            "gridcolor": "white",
            "linecolor": "white",
            "ticks": ""
           },
           "baxis": {
            "gridcolor": "white",
            "linecolor": "white",
            "ticks": ""
           },
           "bgcolor": "#E5ECF6",
           "caxis": {
            "gridcolor": "white",
            "linecolor": "white",
            "ticks": ""
           }
          },
          "title": {
           "x": 0.05
          },
          "xaxis": {
           "automargin": true,
           "gridcolor": "white",
           "linecolor": "white",
           "ticks": "",
           "title": {
            "standoff": 15
           },
           "zerolinecolor": "white",
           "zerolinewidth": 2
          },
          "yaxis": {
           "automargin": true,
           "gridcolor": "white",
           "linecolor": "white",
           "ticks": "",
           "title": {
            "standoff": 15
           },
           "zerolinecolor": "white",
           "zerolinewidth": 2
          }
         }
        },
        "title": {
         "text": "Life expectancy in Canada"
        },
        "xaxis": {
         "anchor": "y",
         "domain": [
          0,
          1
         ],
         "title": {
          "text": "chapter"
         }
        },
        "yaxis": {
         "anchor": "x",
         "domain": [
          0,
          1
         ],
         "title": {
          "text": "weighted_score"
         }
        }
       }
      },
      "text/html": [
       "<div>                            <div id=\"2512975c-0054-474b-865a-d7255e5cc2bc\" class=\"plotly-graph-div\" style=\"height:525px; width:100%;\"></div>            <script type=\"text/javascript\">                require([\"plotly\"], function(Plotly) {                    window.PLOTLYENV=window.PLOTLYENV || {};                                    if (document.getElementById(\"2512975c-0054-474b-865a-d7255e5cc2bc\")) {                    Plotly.newPlot(                        \"2512975c-0054-474b-865a-d7255e5cc2bc\",                        [{\"hovertemplate\":\"chapter=%{x}<br>weighted_score=%{y}<extra></extra>\",\"legendgroup\":\"\",\"line\":{\"color\":\"#636efa\",\"dash\":\"solid\"},\"marker\":{\"symbol\":\"circle\"},\"mode\":\"lines\",\"name\":\"\",\"orientation\":\"v\",\"showlegend\":false,\"x\":[1,2,3,4,5,6,7,8,9,10,11,12,13,14,15,16,17,18,19,20,21,22,23,24,25,26,27,28,29,30,31,32,33,34,35,36,37,38,39,40,41,42,43,44,45,46,47,48,49,50],\"xaxis\":\"x\",\"y\":[0.5358153677755787,0.39333696603775026,0.18193315466245016,0.2070427376490373,0.37114051915705204,0.5211945094845511,0.49297235161066055,0.26933169906789606,0.38919569706094675,0.5823579467833042,0.42306975834071636,0.4767098665237427,0.020143075121773615,0.11103034516175588,-0.018483076776776994,0.01477813720703125,0.29113916997556333,0.09763130635926218,-0.15576262379947461,0.1971079574690925,0.18838278160375707,0.39643793056408566,0.2848889112472534,0.060859847424635245,0.20705470968695247,0.17116837160927909,0.27449179343555286,0.30610147389498626,0.12789456333432878,0.21536078702571781,-0.14159803173758767,0.13140779919922352,0.24525564312934875,0.0377087208532518,0.17596900463104248,0.504119027492612,-0.2971271922190984,-0.3356612106164297,-0.3083787249482196,-0.11990951196007106,0.17982454153529384,-0.16426031213057668,0.18257429845192852,-0.4074687817517449,0.35658719709941317,0.9077269417398116,0.11983962405112482,0.5177012194286693,0.17297171462665906,0.2346365864460285],\"yaxis\":\"y\",\"type\":\"scatter\"}],                        {\"template\":{\"data\":{\"histogram2dcontour\":[{\"type\":\"histogram2dcontour\",\"colorbar\":{\"outlinewidth\":0,\"ticks\":\"\"},\"colorscale\":[[0.0,\"#0d0887\"],[0.1111111111111111,\"#46039f\"],[0.2222222222222222,\"#7201a8\"],[0.3333333333333333,\"#9c179e\"],[0.4444444444444444,\"#bd3786\"],[0.5555555555555556,\"#d8576b\"],[0.6666666666666666,\"#ed7953\"],[0.7777777777777778,\"#fb9f3a\"],[0.8888888888888888,\"#fdca26\"],[1.0,\"#f0f921\"]]}],\"choropleth\":[{\"type\":\"choropleth\",\"colorbar\":{\"outlinewidth\":0,\"ticks\":\"\"}}],\"histogram2d\":[{\"type\":\"histogram2d\",\"colorbar\":{\"outlinewidth\":0,\"ticks\":\"\"},\"colorscale\":[[0.0,\"#0d0887\"],[0.1111111111111111,\"#46039f\"],[0.2222222222222222,\"#7201a8\"],[0.3333333333333333,\"#9c179e\"],[0.4444444444444444,\"#bd3786\"],[0.5555555555555556,\"#d8576b\"],[0.6666666666666666,\"#ed7953\"],[0.7777777777777778,\"#fb9f3a\"],[0.8888888888888888,\"#fdca26\"],[1.0,\"#f0f921\"]]}],\"heatmap\":[{\"type\":\"heatmap\",\"colorbar\":{\"outlinewidth\":0,\"ticks\":\"\"},\"colorscale\":[[0.0,\"#0d0887\"],[0.1111111111111111,\"#46039f\"],[0.2222222222222222,\"#7201a8\"],[0.3333333333333333,\"#9c179e\"],[0.4444444444444444,\"#bd3786\"],[0.5555555555555556,\"#d8576b\"],[0.6666666666666666,\"#ed7953\"],[0.7777777777777778,\"#fb9f3a\"],[0.8888888888888888,\"#fdca26\"],[1.0,\"#f0f921\"]]}],\"heatmapgl\":[{\"type\":\"heatmapgl\",\"colorbar\":{\"outlinewidth\":0,\"ticks\":\"\"},\"colorscale\":[[0.0,\"#0d0887\"],[0.1111111111111111,\"#46039f\"],[0.2222222222222222,\"#7201a8\"],[0.3333333333333333,\"#9c179e\"],[0.4444444444444444,\"#bd3786\"],[0.5555555555555556,\"#d8576b\"],[0.6666666666666666,\"#ed7953\"],[0.7777777777777778,\"#fb9f3a\"],[0.8888888888888888,\"#fdca26\"],[1.0,\"#f0f921\"]]}],\"contourcarpet\":[{\"type\":\"contourcarpet\",\"colorbar\":{\"outlinewidth\":0,\"ticks\":\"\"}}],\"contour\":[{\"type\":\"contour\",\"colorbar\":{\"outlinewidth\":0,\"ticks\":\"\"},\"colorscale\":[[0.0,\"#0d0887\"],[0.1111111111111111,\"#46039f\"],[0.2222222222222222,\"#7201a8\"],[0.3333333333333333,\"#9c179e\"],[0.4444444444444444,\"#bd3786\"],[0.5555555555555556,\"#d8576b\"],[0.6666666666666666,\"#ed7953\"],[0.7777777777777778,\"#fb9f3a\"],[0.8888888888888888,\"#fdca26\"],[1.0,\"#f0f921\"]]}],\"surface\":[{\"type\":\"surface\",\"colorbar\":{\"outlinewidth\":0,\"ticks\":\"\"},\"colorscale\":[[0.0,\"#0d0887\"],[0.1111111111111111,\"#46039f\"],[0.2222222222222222,\"#7201a8\"],[0.3333333333333333,\"#9c179e\"],[0.4444444444444444,\"#bd3786\"],[0.5555555555555556,\"#d8576b\"],[0.6666666666666666,\"#ed7953\"],[0.7777777777777778,\"#fb9f3a\"],[0.8888888888888888,\"#fdca26\"],[1.0,\"#f0f921\"]]}],\"mesh3d\":[{\"type\":\"mesh3d\",\"colorbar\":{\"outlinewidth\":0,\"ticks\":\"\"}}],\"scatter\":[{\"fillpattern\":{\"fillmode\":\"overlay\",\"size\":10,\"solidity\":0.2},\"type\":\"scatter\"}],\"parcoords\":[{\"type\":\"parcoords\",\"line\":{\"colorbar\":{\"outlinewidth\":0,\"ticks\":\"\"}}}],\"scatterpolargl\":[{\"type\":\"scatterpolargl\",\"marker\":{\"colorbar\":{\"outlinewidth\":0,\"ticks\":\"\"}}}],\"bar\":[{\"error_x\":{\"color\":\"#2a3f5f\"},\"error_y\":{\"color\":\"#2a3f5f\"},\"marker\":{\"line\":{\"color\":\"#E5ECF6\",\"width\":0.5},\"pattern\":{\"fillmode\":\"overlay\",\"size\":10,\"solidity\":0.2}},\"type\":\"bar\"}],\"scattergeo\":[{\"type\":\"scattergeo\",\"marker\":{\"colorbar\":{\"outlinewidth\":0,\"ticks\":\"\"}}}],\"scatterpolar\":[{\"type\":\"scatterpolar\",\"marker\":{\"colorbar\":{\"outlinewidth\":0,\"ticks\":\"\"}}}],\"histogram\":[{\"marker\":{\"pattern\":{\"fillmode\":\"overlay\",\"size\":10,\"solidity\":0.2}},\"type\":\"histogram\"}],\"scattergl\":[{\"type\":\"scattergl\",\"marker\":{\"colorbar\":{\"outlinewidth\":0,\"ticks\":\"\"}}}],\"scatter3d\":[{\"type\":\"scatter3d\",\"line\":{\"colorbar\":{\"outlinewidth\":0,\"ticks\":\"\"}},\"marker\":{\"colorbar\":{\"outlinewidth\":0,\"ticks\":\"\"}}}],\"scattermapbox\":[{\"type\":\"scattermapbox\",\"marker\":{\"colorbar\":{\"outlinewidth\":0,\"ticks\":\"\"}}}],\"scatterternary\":[{\"type\":\"scatterternary\",\"marker\":{\"colorbar\":{\"outlinewidth\":0,\"ticks\":\"\"}}}],\"scattercarpet\":[{\"type\":\"scattercarpet\",\"marker\":{\"colorbar\":{\"outlinewidth\":0,\"ticks\":\"\"}}}],\"carpet\":[{\"aaxis\":{\"endlinecolor\":\"#2a3f5f\",\"gridcolor\":\"white\",\"linecolor\":\"white\",\"minorgridcolor\":\"white\",\"startlinecolor\":\"#2a3f5f\"},\"baxis\":{\"endlinecolor\":\"#2a3f5f\",\"gridcolor\":\"white\",\"linecolor\":\"white\",\"minorgridcolor\":\"white\",\"startlinecolor\":\"#2a3f5f\"},\"type\":\"carpet\"}],\"table\":[{\"cells\":{\"fill\":{\"color\":\"#EBF0F8\"},\"line\":{\"color\":\"white\"}},\"header\":{\"fill\":{\"color\":\"#C8D4E3\"},\"line\":{\"color\":\"white\"}},\"type\":\"table\"}],\"barpolar\":[{\"marker\":{\"line\":{\"color\":\"#E5ECF6\",\"width\":0.5},\"pattern\":{\"fillmode\":\"overlay\",\"size\":10,\"solidity\":0.2}},\"type\":\"barpolar\"}],\"pie\":[{\"automargin\":true,\"type\":\"pie\"}]},\"layout\":{\"autotypenumbers\":\"strict\",\"colorway\":[\"#636efa\",\"#EF553B\",\"#00cc96\",\"#ab63fa\",\"#FFA15A\",\"#19d3f3\",\"#FF6692\",\"#B6E880\",\"#FF97FF\",\"#FECB52\"],\"font\":{\"color\":\"#2a3f5f\"},\"hovermode\":\"closest\",\"hoverlabel\":{\"align\":\"left\"},\"paper_bgcolor\":\"white\",\"plot_bgcolor\":\"#E5ECF6\",\"polar\":{\"bgcolor\":\"#E5ECF6\",\"angularaxis\":{\"gridcolor\":\"white\",\"linecolor\":\"white\",\"ticks\":\"\"},\"radialaxis\":{\"gridcolor\":\"white\",\"linecolor\":\"white\",\"ticks\":\"\"}},\"ternary\":{\"bgcolor\":\"#E5ECF6\",\"aaxis\":{\"gridcolor\":\"white\",\"linecolor\":\"white\",\"ticks\":\"\"},\"baxis\":{\"gridcolor\":\"white\",\"linecolor\":\"white\",\"ticks\":\"\"},\"caxis\":{\"gridcolor\":\"white\",\"linecolor\":\"white\",\"ticks\":\"\"}},\"coloraxis\":{\"colorbar\":{\"outlinewidth\":0,\"ticks\":\"\"}},\"colorscale\":{\"sequential\":[[0.0,\"#0d0887\"],[0.1111111111111111,\"#46039f\"],[0.2222222222222222,\"#7201a8\"],[0.3333333333333333,\"#9c179e\"],[0.4444444444444444,\"#bd3786\"],[0.5555555555555556,\"#d8576b\"],[0.6666666666666666,\"#ed7953\"],[0.7777777777777778,\"#fb9f3a\"],[0.8888888888888888,\"#fdca26\"],[1.0,\"#f0f921\"]],\"sequentialminus\":[[0.0,\"#0d0887\"],[0.1111111111111111,\"#46039f\"],[0.2222222222222222,\"#7201a8\"],[0.3333333333333333,\"#9c179e\"],[0.4444444444444444,\"#bd3786\"],[0.5555555555555556,\"#d8576b\"],[0.6666666666666666,\"#ed7953\"],[0.7777777777777778,\"#fb9f3a\"],[0.8888888888888888,\"#fdca26\"],[1.0,\"#f0f921\"]],\"diverging\":[[0,\"#8e0152\"],[0.1,\"#c51b7d\"],[0.2,\"#de77ae\"],[0.3,\"#f1b6da\"],[0.4,\"#fde0ef\"],[0.5,\"#f7f7f7\"],[0.6,\"#e6f5d0\"],[0.7,\"#b8e186\"],[0.8,\"#7fbc41\"],[0.9,\"#4d9221\"],[1,\"#276419\"]]},\"xaxis\":{\"gridcolor\":\"white\",\"linecolor\":\"white\",\"ticks\":\"\",\"title\":{\"standoff\":15},\"zerolinecolor\":\"white\",\"automargin\":true,\"zerolinewidth\":2},\"yaxis\":{\"gridcolor\":\"white\",\"linecolor\":\"white\",\"ticks\":\"\",\"title\":{\"standoff\":15},\"zerolinecolor\":\"white\",\"automargin\":true,\"zerolinewidth\":2},\"scene\":{\"xaxis\":{\"backgroundcolor\":\"#E5ECF6\",\"gridcolor\":\"white\",\"linecolor\":\"white\",\"showbackground\":true,\"ticks\":\"\",\"zerolinecolor\":\"white\",\"gridwidth\":2},\"yaxis\":{\"backgroundcolor\":\"#E5ECF6\",\"gridcolor\":\"white\",\"linecolor\":\"white\",\"showbackground\":true,\"ticks\":\"\",\"zerolinecolor\":\"white\",\"gridwidth\":2},\"zaxis\":{\"backgroundcolor\":\"#E5ECF6\",\"gridcolor\":\"white\",\"linecolor\":\"white\",\"showbackground\":true,\"ticks\":\"\",\"zerolinecolor\":\"white\",\"gridwidth\":2}},\"shapedefaults\":{\"line\":{\"color\":\"#2a3f5f\"}},\"annotationdefaults\":{\"arrowcolor\":\"#2a3f5f\",\"arrowhead\":0,\"arrowwidth\":1},\"geo\":{\"bgcolor\":\"white\",\"landcolor\":\"#E5ECF6\",\"subunitcolor\":\"white\",\"showland\":true,\"showlakes\":true,\"lakecolor\":\"white\"},\"title\":{\"x\":0.05},\"mapbox\":{\"style\":\"light\"}}},\"xaxis\":{\"anchor\":\"y\",\"domain\":[0.0,1.0],\"title\":{\"text\":\"chapter\"}},\"yaxis\":{\"anchor\":\"x\",\"domain\":[0.0,1.0],\"title\":{\"text\":\"weighted_score\"}},\"legend\":{\"tracegroupgap\":0},\"title\":{\"text\":\"Life expectancy in Canada\"}},                        {\"responsive\": true}                    ).then(function(){\n",
       "                            \n",
       "var gd = document.getElementById('2512975c-0054-474b-865a-d7255e5cc2bc');\n",
       "var x = new MutationObserver(function (mutations, observer) {{\n",
       "        var display = window.getComputedStyle(gd).display;\n",
       "        if (!display || display === 'none') {{\n",
       "            console.log([gd, 'removed!']);\n",
       "            Plotly.purge(gd);\n",
       "            observer.disconnect();\n",
       "        }}\n",
       "}});\n",
       "\n",
       "// Listen for the removal of the full notebook cells\n",
       "var notebookContainer = gd.closest('#notebook-container');\n",
       "if (notebookContainer) {{\n",
       "    x.observe(notebookContainer, {childList: true});\n",
       "}}\n",
       "\n",
       "// Listen for the clearing of the current output cell\n",
       "var outputEl = gd.closest('.output');\n",
       "if (outputEl) {{\n",
       "    x.observe(outputEl, {childList: true});\n",
       "}}\n",
       "\n",
       "                        })                };                });            </script>        </div>"
      ]
     },
     "metadata": {},
     "output_type": "display_data"
    }
   ],
   "source": [
    "# fig = go.Figure(go.Line(x=df_genesis_chapters.chapter, y=df_genesis_chapters.weighted_score))\n",
    "# data = [go.Bar(x=df_genesis_chapters.chapter,\n",
    "#             y=df_genesis_chapters.weighted_score)]\n",
    "\n",
    "# py.iplot(data, filename='jupyter-basic_line')\n",
    "\n",
    "# fig = px.line(df_genesis_chapters, x=\"chapter\", y=\"weighted_score\", title='Life expectancy in Canada')\n",
    "# fig.show()"
   ]
  },
  {
   "cell_type": "code",
   "execution_count": null,
   "id": "b32265d7-cfbc-4112-bbb4-569b75ff4788",
   "metadata": {},
   "outputs": [],
   "source": []
  }
 ],
 "metadata": {
  "kernelspec": {
   "display_name": "py39:Python",
   "language": "python",
   "name": "conda-env-py39-py"
  },
  "language_info": {
   "codemirror_mode": {
    "name": "ipython",
    "version": 3
   },
   "file_extension": ".py",
   "mimetype": "text/x-python",
   "name": "python",
   "nbconvert_exporter": "python",
   "pygments_lexer": "ipython3",
   "version": "3.9.15"
  }
 },
 "nbformat": 4,
 "nbformat_minor": 5
}
