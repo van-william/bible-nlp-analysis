{
 "cells": [
  {
   "cell_type": "markdown",
   "id": "061253aa-7fd2-4b95-86ad-86fa53ef3221",
   "metadata": {},
   "source": [
    "## Import Libraries and Functions"
   ]
  },
  {
   "cell_type": "code",
   "execution_count": 158,
   "id": "4602b3c6-6455-4b70-a272-44c8915f80e7",
   "metadata": {},
   "outputs": [],
   "source": [
    "import pandas as pd\n",
    "import numpy as np\n",
    "import requests\n",
    "import re\n",
    "import string\n",
    "from string import printable\n",
    "import collections\n",
    "import nltk\n",
    "from nltk.corpus import stopwords\n",
    "from nltk.stem import WordNetLemmatizer\n",
    "from nltk import word_tokenize\n",
    "from nltk.stem import PorterStemmer\n",
    "from nltk.corpus import stopwords\n",
    "from sklearn.cluster import KMeans\n",
    "from sklearn.feature_extraction.text import TfidfVectorizer\n",
    "from sklearn.decomposition import PCA\n",
    "from scipy.sparse import csr_matrix\n",
    "import seaborn as sns\n",
    "import matplotlib.pyplot as plt"
   ]
  },
  {
   "cell_type": "code",
   "execution_count": 76,
   "id": "99774206-8b7d-4faf-9739-b3b2e14e4405",
   "metadata": {},
   "outputs": [],
   "source": [
    "BOOKS_OLD_TESTAMENT = [\n",
    "'Genesis', 'Exodus', 'Leviticus', 'Numbers', 'Deuteronomy', 'Joshua', 'Judges', 'Ruth',\n",
    "'1 Samuel', '2 Samuel', '1 Kings', '2 Kings', '1 Chronicles', '2 Chronicles', 'Ezra', 'Nehemiah',\n",
    "'Esther', 'Job', 'Psalms', 'Proverbs', 'Ecclesiastes', 'Song of Solomon', 'Isaiah', 'Jeremiah',\n",
    "'Lamentations', 'Ezekiel', 'Daniel', 'Hosea', 'Joel', 'Amos', 'Obadiah', 'Jonah',\n",
    "'Micah', 'Nahum', 'Habakkuk', 'Zephaniah', 'Haggai', 'Zechariah', 'Malachi'\n",
    "]\n",
    "BOOKS_NEW_TESTAMENT = [\n",
    "'Matthew', 'Mark', 'Luke', 'John', 'Acts', 'Romans', '1 Corinthians', '2 Corinthians',\n",
    "'Galatians', 'Ephesians', 'Philippians', 'Colossians', '1 Thessalonians', '2 Thessalonians', '1 Timothy', '2 Timothy',\n",
    "'Titus', 'Philemon', 'Hebrews', 'James', '1 Peter', '2 Peter', '1 John', '2 John',\n",
    "'3 John', 'Jude', 'Revelation'\n",
    "]"
   ]
  },
  {
   "cell_type": "code",
   "execution_count": 4,
   "id": "33e89faf-133a-4b6b-ba66-4b380dad79d6",
   "metadata": {},
   "outputs": [
    {
     "name": "stderr",
     "output_type": "stream",
     "text": [
      "[nltk_data] Downloading package stopwords to /home/studio-lab-\n",
      "[nltk_data]     user/nltk_data...\n",
      "[nltk_data]   Unzipping corpora/stopwords.zip.\n",
      "[nltk_data] Downloading package wordnet to /home/studio-lab-\n",
      "[nltk_data]     user/nltk_data...\n",
      "[nltk_data] Downloading package omw-1.4 to /home/studio-lab-\n",
      "[nltk_data]     user/nltk_data...\n"
     ]
    },
    {
     "data": {
      "text/plain": [
       "True"
      ]
     },
     "execution_count": 4,
     "metadata": {},
     "output_type": "execute_result"
    }
   ],
   "source": [
    "nltk.download('stopwords')\n",
    "nltk.download('wordnet')\n",
    "nltk.download('omw-1.4')"
   ]
  },
  {
   "cell_type": "code",
   "execution_count": 10,
   "id": "234500c4-3330-42a0-8015-a90df814f913",
   "metadata": {},
   "outputs": [],
   "source": [
    "bible_url = 'https://bereanbible.com/bsb.txt'"
   ]
  },
  {
   "cell_type": "code",
   "execution_count": 11,
   "id": "1852a321-1553-45b1-a388-70ad2597cd93",
   "metadata": {},
   "outputs": [],
   "source": [
    "with open('./data/bereanbible.txt', 'r') as f:\n",
    "    text = f.read()"
   ]
  },
  {
   "cell_type": "code",
   "execution_count": 12,
   "id": "8ed67016-0a4a-4ae1-84d5-8930dda1955b",
   "metadata": {},
   "outputs": [],
   "source": [
    "response = requests.get(bible_url)\n",
    "raw_bible = response.text"
   ]
  },
  {
   "cell_type": "code",
   "execution_count": 13,
   "id": "59f78280-2122-49d5-a1c9-2f9bcfe64a5e",
   "metadata": {},
   "outputs": [],
   "source": [
    "bible_list = raw_bible.splitlines()"
   ]
  },
  {
   "cell_type": "code",
   "execution_count": 64,
   "id": "80a1ad75-1c1f-4816-b1d4-fbb8f262e089",
   "metadata": {},
   "outputs": [],
   "source": [
    "bible_array = np.array([item.split('\\t') for item in bible_list])"
   ]
  },
  {
   "cell_type": "code",
   "execution_count": 65,
   "id": "3621db5f-9178-41c3-b49d-899890177582",
   "metadata": {},
   "outputs": [],
   "source": [
    "def printable_string(text):\n",
    "    # string.translate(text, string.printable)\n",
    "    # text = text.translate(str.maketrans('', '', string.printable))\n",
    "    # filtered_string = (filter(lambda x: x in string.printable, text))\n",
    "    filtered_string = ''.join(s for s in text if s in string.printable)\n",
    "    return filtered_string\n",
    "\n",
    "\n",
    "bible_array[:, 1] = np.array([printable_string(verse) for verse in bible_array[:, 1]])"
   ]
  },
  {
   "cell_type": "code",
   "execution_count": 66,
   "id": "bbbf4160-f00b-4640-92a2-0048383a92c9",
   "metadata": {},
   "outputs": [
    {
     "data": {
      "text/plain": [
       "'And God said, Let there be light, and there was light.'"
      ]
     },
     "execution_count": 66,
     "metadata": {},
     "output_type": "execute_result"
    }
   ],
   "source": [
    "bible_array[5, 1]"
   ]
  },
  {
   "cell_type": "code",
   "execution_count": 96,
   "id": "462b55bb-1ad0-4cb5-b270-893deafc6fd0",
   "metadata": {},
   "outputs": [
    {
     "data": {
      "text/plain": [
       "(31105, 2)"
      ]
     },
     "execution_count": 96,
     "metadata": {},
     "output_type": "execute_result"
    }
   ],
   "source": [
    "bible_array.shape"
   ]
  },
  {
   "cell_type": "code",
   "execution_count": 97,
   "id": "bfb663fa-c050-4e92-b7f8-aa6860341f06",
   "metadata": {},
   "outputs": [],
   "source": [
    "df = pd.DataFrame(bible_array[3:, :], columns=['reference','text'])"
   ]
  },
  {
   "cell_type": "code",
   "execution_count": 98,
   "id": "5abc1181-2c68-46c4-9473-7fba1a284422",
   "metadata": {},
   "outputs": [
    {
     "data": {
      "text/html": [
       "<div>\n",
       "<style scoped>\n",
       "    .dataframe tbody tr th:only-of-type {\n",
       "        vertical-align: middle;\n",
       "    }\n",
       "\n",
       "    .dataframe tbody tr th {\n",
       "        vertical-align: top;\n",
       "    }\n",
       "\n",
       "    .dataframe thead th {\n",
       "        text-align: right;\n",
       "    }\n",
       "</style>\n",
       "<table border=\"1\" class=\"dataframe\">\n",
       "  <thead>\n",
       "    <tr style=\"text-align: right;\">\n",
       "      <th></th>\n",
       "      <th>reference</th>\n",
       "      <th>text</th>\n",
       "    </tr>\n",
       "  </thead>\n",
       "  <tbody>\n",
       "    <tr>\n",
       "      <th>0</th>\n",
       "      <td>Genesis 1:1</td>\n",
       "      <td>In the beginning God created the heavens and t...</td>\n",
       "    </tr>\n",
       "    <tr>\n",
       "      <th>1</th>\n",
       "      <td>Genesis 1:2</td>\n",
       "      <td>Now the earth was formless and void, and darkn...</td>\n",
       "    </tr>\n",
       "    <tr>\n",
       "      <th>2</th>\n",
       "      <td>Genesis 1:3</td>\n",
       "      <td>And God said, Let there be light, and there wa...</td>\n",
       "    </tr>\n",
       "    <tr>\n",
       "      <th>3</th>\n",
       "      <td>Genesis 1:4</td>\n",
       "      <td>And God saw that the light was good, and He se...</td>\n",
       "    </tr>\n",
       "    <tr>\n",
       "      <th>4</th>\n",
       "      <td>Genesis 1:5</td>\n",
       "      <td>God called the light day, and the darkness He ...</td>\n",
       "    </tr>\n",
       "  </tbody>\n",
       "</table>\n",
       "</div>"
      ],
      "text/plain": [
       "     reference                                               text\n",
       "0  Genesis 1:1  In the beginning God created the heavens and t...\n",
       "1  Genesis 1:2  Now the earth was formless and void, and darkn...\n",
       "2  Genesis 1:3  And God said, Let there be light, and there wa...\n",
       "3  Genesis 1:4  And God saw that the light was good, and He se...\n",
       "4  Genesis 1:5  God called the light day, and the darkness He ..."
      ]
     },
     "execution_count": 98,
     "metadata": {},
     "output_type": "execute_result"
    }
   ],
   "source": [
    "df.head()"
   ]
  },
  {
   "cell_type": "code",
   "execution_count": 71,
   "id": "8247e714-9761-4831-9430-c55e5d1629b3",
   "metadata": {},
   "outputs": [],
   "source": [
    "def text_process(text):\n",
    "    '''\n",
    "    Takes in a string of text, then performs the following:\n",
    "    1. Remove all punctuation\n",
    "    2. Remove all stopwords\n",
    "    3. Return the cleaned text as a list of words\n",
    "    4. Remove words\n",
    "    '''\n",
    "    stemmer = WordNetLemmatizer()\n",
    "    nopunc = [char for char in text if char not in string.punctuation]\n",
    "    nopunc = ''.join([i for i in nopunc if not i.isdigit()])\n",
    "    nopunc = [word.lower() for word in nopunc.split() if word not in stopwords.words('english')]\n",
    "    return [stemmer.lemmatize(word) for word in nopunc]"
   ]
  },
  {
   "cell_type": "code",
   "execution_count": 87,
   "id": "a97c1d9b-948f-49f2-bd9c-dcd98a72a09b",
   "metadata": {},
   "outputs": [],
   "source": [
    "tfidfconvert = TfidfVectorizer(analyzer=text_process).fit(bible_array[3:,1])\n",
    "tfidf_text = tfidfconvert.transform(bible_array[3:,1])\n",
    "df_vocab = pd.DataFrame(index=None,\n",
    "                        data=zip(tfidfconvert.vocabulary_.keys(),\n",
    "                                 tfidfconvert.vocabulary_.values()),\n",
    "                        columns=['word', 'index']).sort_values('index')\n",
    "tfidf_df = pd.DataFrame(csr_matrix.todense(tfidf_text), columns=df_vocab.word)"
   ]
  },
  {
   "cell_type": "code",
   "execution_count": 90,
   "id": "84c81edc-c1c5-4c2c-9286-0e2bff26216f",
   "metadata": {},
   "outputs": [
    {
     "data": {
      "text/plain": [
       "(31102, 13879)"
      ]
     },
     "execution_count": 90,
     "metadata": {},
     "output_type": "execute_result"
    }
   ],
   "source": [
    "tfidf_df.shape"
   ]
  },
  {
   "cell_type": "code",
   "execution_count": 74,
   "id": "41475495-5569-40b8-a6ef-7cf12851ba5d",
   "metadata": {},
   "outputs": [
    {
     "data": {
      "text/html": [
       "<div>\n",
       "<style scoped>\n",
       "    .dataframe tbody tr th:only-of-type {\n",
       "        vertical-align: middle;\n",
       "    }\n",
       "\n",
       "    .dataframe tbody tr th {\n",
       "        vertical-align: top;\n",
       "    }\n",
       "\n",
       "    .dataframe thead th {\n",
       "        text-align: right;\n",
       "    }\n",
       "</style>\n",
       "<table border=\"1\" class=\"dataframe\">\n",
       "  <thead>\n",
       "    <tr style=\"text-align: right;\">\n",
       "      <th>word</th>\n",
       "      <th>a</th>\n",
       "      <th>aaron</th>\n",
       "      <th>abaddon</th>\n",
       "      <th>abagtha</th>\n",
       "      <th>abanah</th>\n",
       "      <th>abandon</th>\n",
       "      <th>abandoned</th>\n",
       "      <th>abandoning</th>\n",
       "      <th>abarim</th>\n",
       "      <th>abba</th>\n",
       "      <th>...</th>\n",
       "      <th>zophim</th>\n",
       "      <th>zorah</th>\n",
       "      <th>zorathites</th>\n",
       "      <th>zorites</th>\n",
       "      <th>zuar</th>\n",
       "      <th>zuph</th>\n",
       "      <th>zur</th>\n",
       "      <th>zuriel</th>\n",
       "      <th>zurishaddai</th>\n",
       "      <th>zuzites</th>\n",
       "    </tr>\n",
       "  </thead>\n",
       "  <tbody>\n",
       "    <tr>\n",
       "      <th>0</th>\n",
       "      <td>0.0</td>\n",
       "      <td>0.0</td>\n",
       "      <td>0.0</td>\n",
       "      <td>0.0</td>\n",
       "      <td>0.0</td>\n",
       "      <td>0.0</td>\n",
       "      <td>0.0</td>\n",
       "      <td>0.0</td>\n",
       "      <td>0.0</td>\n",
       "      <td>0.0</td>\n",
       "      <td>...</td>\n",
       "      <td>0.0</td>\n",
       "      <td>0.0</td>\n",
       "      <td>0.0</td>\n",
       "      <td>0.0</td>\n",
       "      <td>0.0</td>\n",
       "      <td>0.0</td>\n",
       "      <td>0.0</td>\n",
       "      <td>0.0</td>\n",
       "      <td>0.0</td>\n",
       "      <td>0.0</td>\n",
       "    </tr>\n",
       "    <tr>\n",
       "      <th>1</th>\n",
       "      <td>0.0</td>\n",
       "      <td>0.0</td>\n",
       "      <td>0.0</td>\n",
       "      <td>0.0</td>\n",
       "      <td>0.0</td>\n",
       "      <td>0.0</td>\n",
       "      <td>0.0</td>\n",
       "      <td>0.0</td>\n",
       "      <td>0.0</td>\n",
       "      <td>0.0</td>\n",
       "      <td>...</td>\n",
       "      <td>0.0</td>\n",
       "      <td>0.0</td>\n",
       "      <td>0.0</td>\n",
       "      <td>0.0</td>\n",
       "      <td>0.0</td>\n",
       "      <td>0.0</td>\n",
       "      <td>0.0</td>\n",
       "      <td>0.0</td>\n",
       "      <td>0.0</td>\n",
       "      <td>0.0</td>\n",
       "    </tr>\n",
       "    <tr>\n",
       "      <th>2</th>\n",
       "      <td>0.0</td>\n",
       "      <td>0.0</td>\n",
       "      <td>0.0</td>\n",
       "      <td>0.0</td>\n",
       "      <td>0.0</td>\n",
       "      <td>0.0</td>\n",
       "      <td>0.0</td>\n",
       "      <td>0.0</td>\n",
       "      <td>0.0</td>\n",
       "      <td>0.0</td>\n",
       "      <td>...</td>\n",
       "      <td>0.0</td>\n",
       "      <td>0.0</td>\n",
       "      <td>0.0</td>\n",
       "      <td>0.0</td>\n",
       "      <td>0.0</td>\n",
       "      <td>0.0</td>\n",
       "      <td>0.0</td>\n",
       "      <td>0.0</td>\n",
       "      <td>0.0</td>\n",
       "      <td>0.0</td>\n",
       "    </tr>\n",
       "    <tr>\n",
       "      <th>3</th>\n",
       "      <td>0.0</td>\n",
       "      <td>0.0</td>\n",
       "      <td>0.0</td>\n",
       "      <td>0.0</td>\n",
       "      <td>0.0</td>\n",
       "      <td>0.0</td>\n",
       "      <td>0.0</td>\n",
       "      <td>0.0</td>\n",
       "      <td>0.0</td>\n",
       "      <td>0.0</td>\n",
       "      <td>...</td>\n",
       "      <td>0.0</td>\n",
       "      <td>0.0</td>\n",
       "      <td>0.0</td>\n",
       "      <td>0.0</td>\n",
       "      <td>0.0</td>\n",
       "      <td>0.0</td>\n",
       "      <td>0.0</td>\n",
       "      <td>0.0</td>\n",
       "      <td>0.0</td>\n",
       "      <td>0.0</td>\n",
       "    </tr>\n",
       "    <tr>\n",
       "      <th>4</th>\n",
       "      <td>0.0</td>\n",
       "      <td>0.0</td>\n",
       "      <td>0.0</td>\n",
       "      <td>0.0</td>\n",
       "      <td>0.0</td>\n",
       "      <td>0.0</td>\n",
       "      <td>0.0</td>\n",
       "      <td>0.0</td>\n",
       "      <td>0.0</td>\n",
       "      <td>0.0</td>\n",
       "      <td>...</td>\n",
       "      <td>0.0</td>\n",
       "      <td>0.0</td>\n",
       "      <td>0.0</td>\n",
       "      <td>0.0</td>\n",
       "      <td>0.0</td>\n",
       "      <td>0.0</td>\n",
       "      <td>0.0</td>\n",
       "      <td>0.0</td>\n",
       "      <td>0.0</td>\n",
       "      <td>0.0</td>\n",
       "    </tr>\n",
       "  </tbody>\n",
       "</table>\n",
       "<p>5 rows × 13881 columns</p>\n",
       "</div>"
      ],
      "text/plain": [
       "word    a  aaron  abaddon  abagtha  abanah  abandon  abandoned  abandoning  \\\n",
       "0     0.0    0.0      0.0      0.0     0.0      0.0        0.0         0.0   \n",
       "1     0.0    0.0      0.0      0.0     0.0      0.0        0.0         0.0   \n",
       "2     0.0    0.0      0.0      0.0     0.0      0.0        0.0         0.0   \n",
       "3     0.0    0.0      0.0      0.0     0.0      0.0        0.0         0.0   \n",
       "4     0.0    0.0      0.0      0.0     0.0      0.0        0.0         0.0   \n",
       "\n",
       "word  abarim  abba  ...  zophim  zorah  zorathites  zorites  zuar  zuph  zur  \\\n",
       "0        0.0   0.0  ...     0.0    0.0         0.0      0.0   0.0   0.0  0.0   \n",
       "1        0.0   0.0  ...     0.0    0.0         0.0      0.0   0.0   0.0  0.0   \n",
       "2        0.0   0.0  ...     0.0    0.0         0.0      0.0   0.0   0.0  0.0   \n",
       "3        0.0   0.0  ...     0.0    0.0         0.0      0.0   0.0   0.0  0.0   \n",
       "4        0.0   0.0  ...     0.0    0.0         0.0      0.0   0.0   0.0  0.0   \n",
       "\n",
       "word  zuriel  zurishaddai  zuzites  \n",
       "0        0.0          0.0      0.0  \n",
       "1        0.0          0.0      0.0  \n",
       "2        0.0          0.0      0.0  \n",
       "3        0.0          0.0      0.0  \n",
       "4        0.0          0.0      0.0  \n",
       "\n",
       "[5 rows x 13881 columns]"
      ]
     },
     "execution_count": 74,
     "metadata": {},
     "output_type": "execute_result"
    }
   ],
   "source": [
    "tfidf_df.head()"
   ]
  },
  {
   "cell_type": "code",
   "execution_count": 75,
   "id": "99945757-6a24-4a65-8bbb-9a0922a9f6f7",
   "metadata": {},
   "outputs": [
    {
     "data": {
      "text/html": [
       "<div>\n",
       "<style scoped>\n",
       "    .dataframe tbody tr th:only-of-type {\n",
       "        vertical-align: middle;\n",
       "    }\n",
       "\n",
       "    .dataframe tbody tr th {\n",
       "        vertical-align: top;\n",
       "    }\n",
       "\n",
       "    .dataframe thead th {\n",
       "        text-align: right;\n",
       "    }\n",
       "</style>\n",
       "<table border=\"1\" class=\"dataframe\">\n",
       "  <thead>\n",
       "    <tr style=\"text-align: right;\">\n",
       "      <th>word</th>\n",
       "      <th>a</th>\n",
       "      <th>aaron</th>\n",
       "      <th>abaddon</th>\n",
       "      <th>abagtha</th>\n",
       "      <th>abanah</th>\n",
       "      <th>abandon</th>\n",
       "      <th>abandoned</th>\n",
       "      <th>abandoning</th>\n",
       "      <th>abarim</th>\n",
       "      <th>abba</th>\n",
       "      <th>...</th>\n",
       "      <th>zophim</th>\n",
       "      <th>zorah</th>\n",
       "      <th>zorathites</th>\n",
       "      <th>zorites</th>\n",
       "      <th>zuar</th>\n",
       "      <th>zuph</th>\n",
       "      <th>zur</th>\n",
       "      <th>zuriel</th>\n",
       "      <th>zurishaddai</th>\n",
       "      <th>zuzites</th>\n",
       "    </tr>\n",
       "  </thead>\n",
       "  <tbody>\n",
       "    <tr>\n",
       "      <th>count</th>\n",
       "      <td>31105.000000</td>\n",
       "      <td>31105.000000</td>\n",
       "      <td>31105.000000</td>\n",
       "      <td>31105.000000</td>\n",
       "      <td>31105.000000</td>\n",
       "      <td>31105.000000</td>\n",
       "      <td>31105.000000</td>\n",
       "      <td>31105.000000</td>\n",
       "      <td>31105.000000</td>\n",
       "      <td>31105.000000</td>\n",
       "      <td>...</td>\n",
       "      <td>31105.000000</td>\n",
       "      <td>31105.000000</td>\n",
       "      <td>31105.000000</td>\n",
       "      <td>31105.000000</td>\n",
       "      <td>31105.000000</td>\n",
       "      <td>31105.000000</td>\n",
       "      <td>31105.000000</td>\n",
       "      <td>31105.000000</td>\n",
       "      <td>31105.000000</td>\n",
       "      <td>31105.000000</td>\n",
       "    </tr>\n",
       "    <tr>\n",
       "      <th>mean</th>\n",
       "      <td>0.006169</td>\n",
       "      <td>0.003100</td>\n",
       "      <td>0.000107</td>\n",
       "      <td>0.000010</td>\n",
       "      <td>0.000012</td>\n",
       "      <td>0.000281</td>\n",
       "      <td>0.000494</td>\n",
       "      <td>0.000012</td>\n",
       "      <td>0.000069</td>\n",
       "      <td>0.000047</td>\n",
       "      <td>...</td>\n",
       "      <td>0.000013</td>\n",
       "      <td>0.000134</td>\n",
       "      <td>0.000021</td>\n",
       "      <td>0.000013</td>\n",
       "      <td>0.000075</td>\n",
       "      <td>0.000034</td>\n",
       "      <td>0.000058</td>\n",
       "      <td>0.000015</td>\n",
       "      <td>0.000073</td>\n",
       "      <td>0.000011</td>\n",
       "    </tr>\n",
       "    <tr>\n",
       "      <th>std</th>\n",
       "      <td>0.036373</td>\n",
       "      <td>0.031074</td>\n",
       "      <td>0.007201</td>\n",
       "      <td>0.001721</td>\n",
       "      <td>0.002194</td>\n",
       "      <td>0.010292</td>\n",
       "      <td>0.013112</td>\n",
       "      <td>0.002193</td>\n",
       "      <td>0.005453</td>\n",
       "      <td>0.004834</td>\n",
       "      <td>...</td>\n",
       "      <td>0.002304</td>\n",
       "      <td>0.007612</td>\n",
       "      <td>0.002655</td>\n",
       "      <td>0.002319</td>\n",
       "      <td>0.006051</td>\n",
       "      <td>0.003485</td>\n",
       "      <td>0.004706</td>\n",
       "      <td>0.002618</td>\n",
       "      <td>0.005881</td>\n",
       "      <td>0.001914</td>\n",
       "    </tr>\n",
       "    <tr>\n",
       "      <th>min</th>\n",
       "      <td>0.000000</td>\n",
       "      <td>0.000000</td>\n",
       "      <td>0.000000</td>\n",
       "      <td>0.000000</td>\n",
       "      <td>0.000000</td>\n",
       "      <td>0.000000</td>\n",
       "      <td>0.000000</td>\n",
       "      <td>0.000000</td>\n",
       "      <td>0.000000</td>\n",
       "      <td>0.000000</td>\n",
       "      <td>...</td>\n",
       "      <td>0.000000</td>\n",
       "      <td>0.000000</td>\n",
       "      <td>0.000000</td>\n",
       "      <td>0.000000</td>\n",
       "      <td>0.000000</td>\n",
       "      <td>0.000000</td>\n",
       "      <td>0.000000</td>\n",
       "      <td>0.000000</td>\n",
       "      <td>0.000000</td>\n",
       "      <td>0.000000</td>\n",
       "    </tr>\n",
       "    <tr>\n",
       "      <th>25%</th>\n",
       "      <td>0.000000</td>\n",
       "      <td>0.000000</td>\n",
       "      <td>0.000000</td>\n",
       "      <td>0.000000</td>\n",
       "      <td>0.000000</td>\n",
       "      <td>0.000000</td>\n",
       "      <td>0.000000</td>\n",
       "      <td>0.000000</td>\n",
       "      <td>0.000000</td>\n",
       "      <td>0.000000</td>\n",
       "      <td>...</td>\n",
       "      <td>0.000000</td>\n",
       "      <td>0.000000</td>\n",
       "      <td>0.000000</td>\n",
       "      <td>0.000000</td>\n",
       "      <td>0.000000</td>\n",
       "      <td>0.000000</td>\n",
       "      <td>0.000000</td>\n",
       "      <td>0.000000</td>\n",
       "      <td>0.000000</td>\n",
       "      <td>0.000000</td>\n",
       "    </tr>\n",
       "    <tr>\n",
       "      <th>50%</th>\n",
       "      <td>0.000000</td>\n",
       "      <td>0.000000</td>\n",
       "      <td>0.000000</td>\n",
       "      <td>0.000000</td>\n",
       "      <td>0.000000</td>\n",
       "      <td>0.000000</td>\n",
       "      <td>0.000000</td>\n",
       "      <td>0.000000</td>\n",
       "      <td>0.000000</td>\n",
       "      <td>0.000000</td>\n",
       "      <td>...</td>\n",
       "      <td>0.000000</td>\n",
       "      <td>0.000000</td>\n",
       "      <td>0.000000</td>\n",
       "      <td>0.000000</td>\n",
       "      <td>0.000000</td>\n",
       "      <td>0.000000</td>\n",
       "      <td>0.000000</td>\n",
       "      <td>0.000000</td>\n",
       "      <td>0.000000</td>\n",
       "      <td>0.000000</td>\n",
       "    </tr>\n",
       "    <tr>\n",
       "      <th>75%</th>\n",
       "      <td>0.000000</td>\n",
       "      <td>0.000000</td>\n",
       "      <td>0.000000</td>\n",
       "      <td>0.000000</td>\n",
       "      <td>0.000000</td>\n",
       "      <td>0.000000</td>\n",
       "      <td>0.000000</td>\n",
       "      <td>0.000000</td>\n",
       "      <td>0.000000</td>\n",
       "      <td>0.000000</td>\n",
       "      <td>...</td>\n",
       "      <td>0.000000</td>\n",
       "      <td>0.000000</td>\n",
       "      <td>0.000000</td>\n",
       "      <td>0.000000</td>\n",
       "      <td>0.000000</td>\n",
       "      <td>0.000000</td>\n",
       "      <td>0.000000</td>\n",
       "      <td>0.000000</td>\n",
       "      <td>0.000000</td>\n",
       "      <td>0.000000</td>\n",
       "    </tr>\n",
       "    <tr>\n",
       "      <th>max</th>\n",
       "      <td>0.434450</td>\n",
       "      <td>0.699952</td>\n",
       "      <td>0.567489</td>\n",
       "      <td>0.303476</td>\n",
       "      <td>0.387030</td>\n",
       "      <td>0.557633</td>\n",
       "      <td>0.610992</td>\n",
       "      <td>0.386761</td>\n",
       "      <td>0.486074</td>\n",
       "      <td>0.567838</td>\n",
       "      <td>...</td>\n",
       "      <td>0.406426</td>\n",
       "      <td>0.535302</td>\n",
       "      <td>0.337861</td>\n",
       "      <td>0.408977</td>\n",
       "      <td>0.622154</td>\n",
       "      <td>0.424455</td>\n",
       "      <td>0.466501</td>\n",
       "      <td>0.461749</td>\n",
       "      <td>0.601265</td>\n",
       "      <td>0.337627</td>\n",
       "    </tr>\n",
       "  </tbody>\n",
       "</table>\n",
       "<p>8 rows × 13881 columns</p>\n",
       "</div>"
      ],
      "text/plain": [
       "word              a         aaron       abaddon       abagtha        abanah  \\\n",
       "count  31105.000000  31105.000000  31105.000000  31105.000000  31105.000000   \n",
       "mean       0.006169      0.003100      0.000107      0.000010      0.000012   \n",
       "std        0.036373      0.031074      0.007201      0.001721      0.002194   \n",
       "min        0.000000      0.000000      0.000000      0.000000      0.000000   \n",
       "25%        0.000000      0.000000      0.000000      0.000000      0.000000   \n",
       "50%        0.000000      0.000000      0.000000      0.000000      0.000000   \n",
       "75%        0.000000      0.000000      0.000000      0.000000      0.000000   \n",
       "max        0.434450      0.699952      0.567489      0.303476      0.387030   \n",
       "\n",
       "word        abandon     abandoned    abandoning        abarim          abba  \\\n",
       "count  31105.000000  31105.000000  31105.000000  31105.000000  31105.000000   \n",
       "mean       0.000281      0.000494      0.000012      0.000069      0.000047   \n",
       "std        0.010292      0.013112      0.002193      0.005453      0.004834   \n",
       "min        0.000000      0.000000      0.000000      0.000000      0.000000   \n",
       "25%        0.000000      0.000000      0.000000      0.000000      0.000000   \n",
       "50%        0.000000      0.000000      0.000000      0.000000      0.000000   \n",
       "75%        0.000000      0.000000      0.000000      0.000000      0.000000   \n",
       "max        0.557633      0.610992      0.386761      0.486074      0.567838   \n",
       "\n",
       "word   ...        zophim         zorah    zorathites       zorites  \\\n",
       "count  ...  31105.000000  31105.000000  31105.000000  31105.000000   \n",
       "mean   ...      0.000013      0.000134      0.000021      0.000013   \n",
       "std    ...      0.002304      0.007612      0.002655      0.002319   \n",
       "min    ...      0.000000      0.000000      0.000000      0.000000   \n",
       "25%    ...      0.000000      0.000000      0.000000      0.000000   \n",
       "50%    ...      0.000000      0.000000      0.000000      0.000000   \n",
       "75%    ...      0.000000      0.000000      0.000000      0.000000   \n",
       "max    ...      0.406426      0.535302      0.337861      0.408977   \n",
       "\n",
       "word           zuar          zuph           zur        zuriel   zurishaddai  \\\n",
       "count  31105.000000  31105.000000  31105.000000  31105.000000  31105.000000   \n",
       "mean       0.000075      0.000034      0.000058      0.000015      0.000073   \n",
       "std        0.006051      0.003485      0.004706      0.002618      0.005881   \n",
       "min        0.000000      0.000000      0.000000      0.000000      0.000000   \n",
       "25%        0.000000      0.000000      0.000000      0.000000      0.000000   \n",
       "50%        0.000000      0.000000      0.000000      0.000000      0.000000   \n",
       "75%        0.000000      0.000000      0.000000      0.000000      0.000000   \n",
       "max        0.622154      0.424455      0.466501      0.461749      0.601265   \n",
       "\n",
       "word        zuzites  \n",
       "count  31105.000000  \n",
       "mean       0.000011  \n",
       "std        0.001914  \n",
       "min        0.000000  \n",
       "25%        0.000000  \n",
       "50%        0.000000  \n",
       "75%        0.000000  \n",
       "max        0.337627  \n",
       "\n",
       "[8 rows x 13881 columns]"
      ]
     },
     "execution_count": 75,
     "metadata": {},
     "output_type": "execute_result"
    }
   ],
   "source": [
    "tfidf_df.describe()"
   ]
  },
  {
   "cell_type": "code",
   "execution_count": 91,
   "id": "cd67f2ae-b5d4-4531-a139-c03d90b9222a",
   "metadata": {},
   "outputs": [],
   "source": [
    "pca_model = PCA(n_components=2)\n",
    "pca_array = pca_model.fit_transform(tfidf_df)"
   ]
  },
  {
   "cell_type": "code",
   "execution_count": 92,
   "id": "906c239a-c57e-4c5b-8f08-e02f8b90ade7",
   "metadata": {},
   "outputs": [
    {
     "data": {
      "text/plain": [
       "(31102, 2)"
      ]
     },
     "execution_count": 92,
     "metadata": {},
     "output_type": "execute_result"
    }
   ],
   "source": [
    "pca_array.shape"
   ]
  },
  {
   "cell_type": "code",
   "execution_count": 99,
   "id": "208de200-65a2-4e1f-8fbf-034770534e46",
   "metadata": {},
   "outputs": [],
   "source": [
    "df['pca_1'] = pca_array[:,0]\n",
    "df['pca_2'] = pca_array[:,1]"
   ]
  },
  {
   "cell_type": "code",
   "execution_count": 135,
   "id": "556ed8dc-f735-42e4-a0ff-15932285e939",
   "metadata": {},
   "outputs": [],
   "source": [
    "def book_split(text):\n",
    "    book = text.split(' ')\n",
    "    return' '.join(book[0:len(book)-1])\n",
    "df['book'] = df['reference'].apply(book_split)\n",
    "df['testament'] = df['book'].apply(lambda x: 'OT' if x in BOOKS_OLD_TESTAMENT else 'NT')"
   ]
  },
  {
   "cell_type": "code",
   "execution_count": 136,
   "id": "833d53bd-1b10-42d2-988e-f14252bf4f00",
   "metadata": {},
   "outputs": [
    {
     "data": {
      "text/plain": [
       "<AxesSubplot: xlabel='pca_1', ylabel='pca_2'>"
      ]
     },
     "execution_count": 136,
     "metadata": {},
     "output_type": "execute_result"
    },
    {
     "data": {
      "image/png": "[encoded data removed]",
      "text/plain": [
       "<Figure size 432x288 with 1 Axes>"
      ]
     },
     "metadata": {
      "needs_background": "light"
     },
     "output_type": "display_data"
    }
   ],
   "source": [
    "sns.scatterplot(data=df, x='pca_1', y='pca_2', hue='testament')"
   ]
  },
  {
   "cell_type": "code",
   "execution_count": 153,
   "id": "69dd9cfc-6970-4d19-9adb-274c6f7db611",
   "metadata": {},
   "outputs": [],
   "source": [
    "books_df = df[['pca_1', 'pca_2', 'book', 'testament']].groupby(['testament','book']).mean()"
   ]
  },
  {
   "cell_type": "code",
   "execution_count": 154,
   "id": "ebea021b-d724-48f5-9e9a-8329203208b4",
   "metadata": {},
   "outputs": [],
   "source": [
    "books_df = books_df.reset_index(level=[0,1])"
   ]
  },
  {
   "cell_type": "code",
   "execution_count": 155,
   "id": "04232c25-5702-46ad-b62a-d5bbc2eb7c67",
   "metadata": {},
   "outputs": [
    {
     "data": {
      "text/plain": [
       "<AxesSubplot: xlabel='pca_1', ylabel='pca_2'>"
      ]
     },
     "execution_count": 155,
     "metadata": {},
     "output_type": "execute_result"
    },
    {
     "data": {
      "image/png": "[encoded data removed]",
      "text/plain": [
       "<Figure size 432x288 with 1 Axes>"
      ]
     },
     "metadata": {
      "needs_background": "light"
     },
     "output_type": "display_data"
    }
   ],
   "source": [
    "sns.scatterplot(data=books_df, x='pca_1', y='pca_2', hue='testament')"
   ]
  },
  {
   "cell_type": "code",
   "execution_count": 156,
   "id": "453ef7d4-e504-4442-8d98-3b048a51c1bc",
   "metadata": {},
   "outputs": [],
   "source": [
    "def scatter_text(x, y, text_column, data, title, xlabel, ylabel):\n",
    "    \"\"\"Scatter plot with country codes on the x y coordinates\n",
    "       Based on this answer: https://stackoverflow.com/a/54789170/2641825\"\"\"\n",
    "    # Create the scatter plot\n",
    "    p1 = sns.scatterplot(data=data, x=x, y=y, size = 8, legend=False)\n",
    "    # Add text besides each point\n",
    "    for line in range(0,data.shape[0]):\n",
    "         p1.text(data[x][line]+0.01, data[y][line], \n",
    "                 data[text_column][line], horizontalalignment='left', \n",
    "                 size='medium', color='black', weight='semibold')\n",
    "    # Set title and axis labels\n",
    "    plt.title(title)\n",
    "    plt.xlabel(xlabel)\n",
    "    plt.ylabel(ylabel)\n",
    "    return p1"
   ]
  },
  {
   "cell_type": "code",
   "execution_count": 159,
   "id": "394b6dbc-e894-494e-a633-63697eabdf3c",
   "metadata": {},
   "outputs": [
    {
     "data": {
      "text/plain": [
       "<AxesSubplot: title={'center': 'books of the bible'}, xlabel='pca_1', ylabel='pca_2'>"
      ]
     },
     "execution_count": 159,
     "metadata": {},
     "output_type": "execute_result"
    },
    {
     "data": {
      "image/png": "[encoded data removed]",
      "text/plain": [
       "<Figure size 432x288 with 1 Axes>"
      ]
     },
     "metadata": {
      "needs_background": "light"
     },
     "output_type": "display_data"
    }
   ],
   "source": [
    "scatter_text(x='pca_1', y='pca_2',\n",
    "             text_column='book', data=books_df,\n",
    "             title='books of the bible',\n",
    "             xlabel='pca_1', ylabel='pca_2')"
   ]
  },
  {
   "cell_type": "code",
   "execution_count": null,
   "id": "cb09dffc-b781-46dd-aa21-b47a108a4e61",
   "metadata": {},
   "outputs": [],
   "source": []
  }
 ],
 "metadata": {
  "kernelspec": {
   "display_name": "py39:Python",
   "language": "python",
   "name": "conda-env-py39-py"
  },
  "language_info": {
   "codemirror_mode": {
    "name": "ipython",
    "version": 3
   },
   "file_extension": ".py",
   "mimetype": "text/x-python",
   "name": "python",
   "nbconvert_exporter": "python",
   "pygments_lexer": "ipython3",
   "version": "3.9.15"
  }
 },
 "nbformat": 4,
 "nbformat_minor": 5
}
